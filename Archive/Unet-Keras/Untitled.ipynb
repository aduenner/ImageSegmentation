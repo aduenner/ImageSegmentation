{
 "cells": [
  {
   "cell_type": "markdown",
   "metadata": {},
   "source": [
    "### Download data on host machine"
   ]
  },
  {
   "cell_type": "code",
   "execution_count": 52,
   "metadata": {},
   "outputs": [
    {
     "name": "stdout",
     "output_type": "stream",
     "text": [
      "Downloading stage1_sample_submission.csv.zip to /media/andrew/HDD1/Data/data-science-bowl-2018/input\n",
      "\n",
      "Downloading stage1_train_labels.csv.zip to /media/andrew/HDD1/Data/data-science-bowl-2018/input\n",
      "\n",
      "Downloading stage1_test.zip to /media/andrew/HDD1/Data/data-science-bowl-2018/input\n",
      "\n",
      "Downloading stage1_train.zip to /media/andrew/HDD1/Data/data-science-bowl-2018/input\n",
      "\n",
      "Downloading stage2_sample_submission_final.csv.zip to /media/andrew/HDD1/Data/data-science-bowl-2018/input\n",
      "\n",
      "Downloading stage2_test_final.zip to /media/andrew/HDD1/Data/data-science-bowl-2018/input\n",
      "\n",
      "Downloading stage1_solution.csv.zip to /media/andrew/HDD1/Data/data-science-bowl-2018/input\n",
      "\n"
     ]
    },
    {
     "name": "stderr",
     "output_type": "stream",
     "text": [
      "mkdir: cannot create directory ‘/media/andrew/HDD1/Data/data-science-bowl-2018’: File exists\n",
      "mkdir: cannot create directory ‘/media/andrew/HDD1/Data/data-science-bowl-2018/input’: File exists\n",
      "100%|██████████| 2.62k/2.62k [00:00<00:00, 3.85MB/s]\n",
      "100%|██████████| 2.67M/2.67M [00:00<00:00, 21.7MB/s]\n",
      "100%|██████████| 9.10M/9.10M [00:00<00:00, 100MB/s]\n",
      "100%|██████████| 79.1M/79.1M [00:00<00:00, 110MB/s]\n",
      "100%|██████████| 112k/112k [00:00<00:00, 11.5MB/s]\n",
      "100%|██████████| 276M/276M [00:02<00:00, 112MB/s]\n",
      "100%|██████████| 386k/386k [00:00<00:00, 12.7MB/s]\n"
     ]
    }
   ],
   "source": [
    "%%bash\n",
    "mkdir /storage/data-science-bowl-2018\n",
    "mkdir /storage/data-science-bowl-2018/input\n",
    "kaggle competitions download data-science-bowl-2018 -p /storage/data-science-bowl-2018/input\n",
    "cd /storage/data-science-bowl-2018/input"
   ]
  },
  {
   "cell_type": "code",
   "execution_count": null,
   "metadata": {},
   "outputs": [],
   "source": []
  },
  {
   "cell_type": "code",
   "execution_count": 53,
   "metadata": {},
   "outputs": [
    {
     "name": "stderr",
     "output_type": "stream",
     "text": [
      "IOPub data rate exceeded.\n",
      "The notebook server will temporarily stop sending output\n",
      "to the client in order to avoid crashing it.\n",
      "To change this limit, set the config variable\n",
      "`--NotebookApp.iopub_data_rate_limit`.\n",
      "\n",
      "Current values:\n",
      "NotebookApp.iopub_data_rate_limit=1000000.0 (bytes/sec)\n",
      "NotebookApp.rate_limit_window=3.0 (secs)\n",
      "\n"
     ]
    }
   ],
   "source": [
    "%%bash\n",
    "shopt -s globstar\n",
    "for gz_file in /media/andrew/HDD1/Data/data-science-bowl-2018/input/*.zip; do\n",
    "    name=$(echo \"$gz_file\" | cut -f 1 -d '.')\n",
    "    echo \"$name\"\n",
    "    unzip \"$gz_file\" -d \"$name\"\n",
    "    rm -rf \"$gz_file\"\n",
    "done"
   ]
  },
  {
   "cell_type": "markdown",
   "metadata": {},
   "source": [
    "### Import dependencies\n",
    "    - tqdm\n",
    "    - itertools\n",
    "    - scikit-image\n",
    "    - tensorflow\n",
    "    - keras"
   ]
  },
  {
   "cell_type": "code",
   "execution_count": 1,
   "metadata": {},
   "outputs": [
    {
     "name": "stderr",
     "output_type": "stream",
     "text": [
      "Using TensorFlow backend.\n"
     ]
    }
   ],
   "source": [
    "import os\n",
    "import sys\n",
    "import random\n",
    "import warnings\n",
    "\n",
    "import numpy as np\n",
    "import pandas as pd\n",
    "\n",
    "import matplotlib.pyplot as plt\n",
    "\n",
    "from tqdm import tqdm\n",
    "from itertools import chain\n",
    "from skimage.io import imread, imshow, imread_collection, concatenate_images\n",
    "from skimage.transform import resize\n",
    "from skimage.morphology import label\n",
    "\n",
    "from keras.models import Model, load_model\n",
    "from keras.utils.vis_utils import plot_model\n",
    "from keras.layers import Input\n",
    "from keras.layers.core import Dropout, Lambda\n",
    "from keras.layers.convolutional import Conv2D, Conv2DTranspose\n",
    "from keras.layers.pooling import MaxPooling2D\n",
    "from keras.layers.merge import concatenate\n",
    "from keras.callbacks import EarlyStopping, ModelCheckpoint\n",
    "from keras import backend as K\n",
    "\n",
    "import tensorflow as tf"
   ]
  },
  {
   "cell_type": "code",
   "execution_count": 6,
   "metadata": {},
   "outputs": [
    {
     "name": "stdout",
     "output_type": "stream",
     "text": [
      "<generator object <genexpr> at 0x7f95991ff4c0>\n"
     ]
    }
   ],
   "source": [
    "print(v[0] for v in os.walk(os.getcwd()))"
   ]
  },
  {
   "cell_type": "markdown",
   "metadata": {},
   "source": [
    "### Parameters"
   ]
  },
  {
   "cell_type": "code",
   "execution_count": 2,
   "metadata": {},
   "outputs": [],
   "source": [
    "# Set some parameters\n",
    "\n",
    "#Desired image width/height\n",
    "IMG_WIDTH = 128\n",
    "IMG_HEIGHT = 128\n",
    "\n",
    "IMG_CHANNELS = 3\n",
    "TRAIN_PATH = '/media/andrew/HDD1/Data/data-science-bowl-2018/input/stage1_train/'\n",
    "TEST_PATH = '/media/andrew/HDD1/Data/data-science-bowl-2018/input/stage1_test/'\n",
    "\n",
    "warnings.filterwarnings('ignore', category=UserWarning, module='skimage')\n",
    "seed = 42\n",
    "random.seed = seed\n",
    "np.random.seed = seed"
   ]
  },
  {
   "cell_type": "code",
   "execution_count": 3,
   "metadata": {},
   "outputs": [],
   "source": [
    "# Get train and test IDs\n",
    "\n",
    "train_ids = next(os.walk(TRAIN_PATH))[1]\n",
    "test_ids = next(os.walk(TEST_PATH))[1]"
   ]
  },
  {
   "cell_type": "code",
   "execution_count": 2,
   "metadata": {},
   "outputs": [],
   "source": []
  },
  {
   "cell_type": "markdown",
   "metadata": {},
   "source": [
    "### Get and process Data"
   ]
  },
  {
   "cell_type": "code",
   "execution_count": 5,
   "metadata": {},
   "outputs": [
    {
     "name": "stdout",
     "output_type": "stream",
     "text": [
      "Getting and resizing train images and masks ... \n"
     ]
    },
    {
     "name": "stderr",
     "output_type": "stream",
     "text": [
      "100%|██████████| 670/670 [01:14<00:00,  8.97it/s]"
     ]
    },
    {
     "name": "stdout",
     "output_type": "stream",
     "text": [
      "Getting and resizing test images ... \n"
     ]
    },
    {
     "name": "stderr",
     "output_type": "stream",
     "text": [
      "\n",
      "100%|██████████| 65/65 [00:00<00:00, 90.73it/s]"
     ]
    },
    {
     "name": "stdout",
     "output_type": "stream",
     "text": [
      "Done!\n"
     ]
    },
    {
     "name": "stderr",
     "output_type": "stream",
     "text": [
      "\n"
     ]
    }
   ],
   "source": [
    "# Get and resize train images and masks\n",
    "X_train = np.zeros((len(train_ids), IMG_HEIGHT, IMG_WIDTH, IMG_CHANNELS), dtype=np.uint8)\n",
    "Y_train = np.zeros((len(train_ids), IMG_HEIGHT, IMG_WIDTH, 1), dtype=np.bool)\n",
    "print('Getting and resizing train images and masks ... ')\n",
    "sys.stdout.flush()\n",
    "for n, id_ in tqdm(enumerate(train_ids), total=len(train_ids)):\n",
    "    path = TRAIN_PATH + id_\n",
    "    img = imread(path + '/images/' + id_ + '.png')[:,:,:IMG_CHANNELS]\n",
    "    img = resize(img, (IMG_HEIGHT, IMG_WIDTH), mode='constant', preserve_range=True)\n",
    "    X_train[n] = img\n",
    "    mask = np.zeros((IMG_HEIGHT, IMG_WIDTH, 1), dtype=np.bool)\n",
    "    for mask_file in next(os.walk(path + '/masks/'))[2]:\n",
    "        mask_ = imread(path + '/masks/' + mask_file)\n",
    "        mask_ = np.expand_dims(resize(mask_, (IMG_HEIGHT, IMG_WIDTH), mode='constant', \n",
    "                                      preserve_range=True), axis=-1)\n",
    "        mask = np.maximum(mask, mask_)\n",
    "    Y_train[n] = mask\n",
    "\n",
    "# Get and resize test images\n",
    "X_test = np.zeros((len(test_ids), IMG_HEIGHT, IMG_WIDTH, IMG_CHANNELS), dtype=np.uint8)\n",
    "sizes_test = []\n",
    "print('Getting and resizing test images ... ')\n",
    "sys.stdout.flush()\n",
    "for n, id_ in tqdm(enumerate(test_ids), total=len(test_ids)):\n",
    "    path = TEST_PATH + id_\n",
    "    img = imread(path + '/images/' + id_ + '.png')[:,:,:IMG_CHANNELS]\n",
    "    sizes_test.append([img.shape[0], img.shape[1]])\n",
    "    img = resize(img, (IMG_HEIGHT, IMG_WIDTH), mode='constant', preserve_range=True)\n",
    "    X_test[n] = img\n",
    "\n",
    "print('Done!')"
   ]
  },
  {
   "cell_type": "markdown",
   "metadata": {},
   "source": [
    "### See if data looks ok"
   ]
  },
  {
   "cell_type": "code",
   "execution_count": 67,
   "metadata": {},
   "outputs": [
    {
     "data": {
      "image/png": "[encoded data removed]",
      "text/plain": [
       "<Figure size 432x288 with 1 Axes>"
      ]
     },
     "metadata": {
      "needs_background": "light"
     },
     "output_type": "display_data"
    },
    {
     "data": {
      "image/png": "[encoded data removed]",
      "text/plain": [
       "<Figure size 432x288 with 1 Axes>"
      ]
     },
     "metadata": {
      "needs_background": "light"
     },
     "output_type": "display_data"
    }
   ],
   "source": [
    "# Check if training data looks all right\n",
    "ix = random.randint(0, len(train_ids))\n",
    "imshow(X_train[ix])\n",
    "plt.show()\n",
    "imshow(np.squeeze(Y_train[ix]))\n",
    "plt.show()"
   ]
  },
  {
   "cell_type": "markdown",
   "metadata": {},
   "source": [
    "### Mean IOU Metric"
   ]
  },
  {
   "cell_type": "code",
   "execution_count": 4,
   "metadata": {},
   "outputs": [],
   "source": [
    "def Mean_IOU(y_true, y_pred):\n",
    "    nb_classes = K.int_shape(y_pred)[-1]\n",
    "    iou = []\n",
    "    true_pixels = K.argmax(y_true, axis=-1)\n",
    "    pred_pixels = K.argmax(y_pred, axis=-1)\n",
    "    void_labels = K.equal(K.sum(y_true, axis=-1), 0)\n",
    "    for i in range(0, nb_classes): # exclude first label (background) and last label (void)\n",
    "        true_labels = K.equal(true_pixels, i) & ~void_labels\n",
    "        pred_labels = K.equal(pred_pixels, i) & ~void_labels\n",
    "        inter = tf.to_int32(true_labels & pred_labels)\n",
    "        union = tf.to_int32(true_labels | pred_labels)\n",
    "        legal_batches = K.sum(tf.to_int32(true_labels), axis=1)>0\n",
    "        ious = K.sum(inter, axis=1)/K.sum(union, axis=1)\n",
    "        iou.append(K.mean(tf.gather(ious, indices=tf.where(legal_batches)))) # returns average IoU of the same objects\n",
    "    iou = tf.stack(iou)\n",
    "    legal_labels = ~tf.debugging.is_nan(iou)\n",
    "    iou = tf.gather(iou, indices=tf.where(legal_labels))\n",
    "    return K.mean(iou)"
   ]
  },
  {
   "cell_type": "markdown",
   "metadata": {},
   "source": [
    "### Build Unet Model"
   ]
  },
  {
   "cell_type": "code",
   "execution_count": 88,
   "metadata": {},
   "outputs": [
    {
     "name": "stdout",
     "output_type": "stream",
     "text": [
      "__________________________________________________________________________________________________\n",
      "Layer (type)                    Output Shape         Param #     Connected to                     \n",
      "==================================================================================================\n",
      "input_3 (InputLayer)            (None, 128, 128, 3)  0                                            \n",
      "__________________________________________________________________________________________________\n",
      "lambda_3 (Lambda)               (None, 128, 128, 3)  0           input_3[0][0]                    \n",
      "__________________________________________________________________________________________________\n",
      "conv2d_39 (Conv2D)              (None, 128, 128, 16) 448         lambda_3[0][0]                   \n",
      "__________________________________________________________________________________________________\n",
      "dropout_19 (Dropout)            (None, 128, 128, 16) 0           conv2d_39[0][0]                  \n",
      "__________________________________________________________________________________________________\n",
      "conv2d_40 (Conv2D)              (None, 128, 128, 16) 2320        dropout_19[0][0]                 \n",
      "__________________________________________________________________________________________________\n",
      "max_pooling2d_9 (MaxPooling2D)  (None, 64, 64, 16)   0           conv2d_40[0][0]                  \n",
      "__________________________________________________________________________________________________\n",
      "conv2d_41 (Conv2D)              (None, 64, 64, 32)   4640        max_pooling2d_9[0][0]            \n",
      "__________________________________________________________________________________________________\n",
      "dropout_20 (Dropout)            (None, 64, 64, 32)   0           conv2d_41[0][0]                  \n",
      "__________________________________________________________________________________________________\n",
      "conv2d_42 (Conv2D)              (None, 64, 64, 32)   9248        dropout_20[0][0]                 \n",
      "__________________________________________________________________________________________________\n",
      "max_pooling2d_10 (MaxPooling2D) (None, 32, 32, 32)   0           conv2d_42[0][0]                  \n",
      "__________________________________________________________________________________________________\n",
      "conv2d_43 (Conv2D)              (None, 32, 32, 64)   18496       max_pooling2d_10[0][0]           \n",
      "__________________________________________________________________________________________________\n",
      "dropout_21 (Dropout)            (None, 32, 32, 64)   0           conv2d_43[0][0]                  \n",
      "__________________________________________________________________________________________________\n",
      "conv2d_44 (Conv2D)              (None, 32, 32, 64)   36928       dropout_21[0][0]                 \n",
      "__________________________________________________________________________________________________\n",
      "max_pooling2d_11 (MaxPooling2D) (None, 16, 16, 64)   0           conv2d_44[0][0]                  \n",
      "__________________________________________________________________________________________________\n",
      "conv2d_45 (Conv2D)              (None, 16, 16, 128)  73856       max_pooling2d_11[0][0]           \n",
      "__________________________________________________________________________________________________\n",
      "dropout_22 (Dropout)            (None, 16, 16, 128)  0           conv2d_45[0][0]                  \n",
      "__________________________________________________________________________________________________\n",
      "conv2d_46 (Conv2D)              (None, 16, 16, 128)  147584      dropout_22[0][0]                 \n",
      "__________________________________________________________________________________________________\n",
      "max_pooling2d_12 (MaxPooling2D) (None, 8, 8, 128)    0           conv2d_46[0][0]                  \n",
      "__________________________________________________________________________________________________\n",
      "conv2d_47 (Conv2D)              (None, 8, 8, 256)    295168      max_pooling2d_12[0][0]           \n",
      "__________________________________________________________________________________________________\n",
      "dropout_23 (Dropout)            (None, 8, 8, 256)    0           conv2d_47[0][0]                  \n",
      "__________________________________________________________________________________________________\n",
      "conv2d_48 (Conv2D)              (None, 8, 8, 256)    590080      dropout_23[0][0]                 \n",
      "__________________________________________________________________________________________________\n",
      "conv2d_transpose_9 (Conv2DTrans (None, 16, 16, 128)  131200      conv2d_48[0][0]                  \n",
      "__________________________________________________________________________________________________\n",
      "concatenate_9 (Concatenate)     (None, 16, 16, 256)  0           conv2d_transpose_9[0][0]         \n",
      "                                                                 conv2d_46[0][0]                  \n",
      "__________________________________________________________________________________________________\n",
      "conv2d_49 (Conv2D)              (None, 16, 16, 128)  295040      concatenate_9[0][0]              \n",
      "__________________________________________________________________________________________________\n",
      "dropout_24 (Dropout)            (None, 16, 16, 128)  0           conv2d_49[0][0]                  \n",
      "__________________________________________________________________________________________________\n",
      "conv2d_50 (Conv2D)              (None, 16, 16, 128)  147584      dropout_24[0][0]                 \n",
      "__________________________________________________________________________________________________\n",
      "conv2d_transpose_10 (Conv2DTran (None, 32, 32, 64)   32832       conv2d_50[0][0]                  \n",
      "__________________________________________________________________________________________________\n",
      "concatenate_10 (Concatenate)    (None, 32, 32, 128)  0           conv2d_transpose_10[0][0]        \n",
      "                                                                 conv2d_44[0][0]                  \n",
      "__________________________________________________________________________________________________\n",
      "conv2d_51 (Conv2D)              (None, 32, 32, 64)   73792       concatenate_10[0][0]             \n",
      "__________________________________________________________________________________________________\n",
      "dropout_25 (Dropout)            (None, 32, 32, 64)   0           conv2d_51[0][0]                  \n",
      "__________________________________________________________________________________________________\n",
      "conv2d_52 (Conv2D)              (None, 32, 32, 64)   36928       dropout_25[0][0]                 \n",
      "__________________________________________________________________________________________________\n",
      "conv2d_transpose_11 (Conv2DTran (None, 64, 64, 32)   8224        conv2d_52[0][0]                  \n",
      "__________________________________________________________________________________________________\n",
      "concatenate_11 (Concatenate)    (None, 64, 64, 64)   0           conv2d_transpose_11[0][0]        \n",
      "                                                                 conv2d_42[0][0]                  \n",
      "__________________________________________________________________________________________________\n",
      "conv2d_53 (Conv2D)              (None, 64, 64, 32)   18464       concatenate_11[0][0]             \n",
      "__________________________________________________________________________________________________\n",
      "dropout_26 (Dropout)            (None, 64, 64, 32)   0           conv2d_53[0][0]                  \n",
      "__________________________________________________________________________________________________\n",
      "conv2d_54 (Conv2D)              (None, 64, 64, 32)   9248        dropout_26[0][0]                 \n",
      "__________________________________________________________________________________________________\n",
      "conv2d_transpose_12 (Conv2DTran (None, 128, 128, 16) 2064        conv2d_54[0][0]                  \n",
      "__________________________________________________________________________________________________\n",
      "concatenate_12 (Concatenate)    (None, 128, 128, 32) 0           conv2d_transpose_12[0][0]        \n",
      "                                                                 conv2d_40[0][0]                  \n",
      "__________________________________________________________________________________________________\n",
      "conv2d_55 (Conv2D)              (None, 128, 128, 16) 4624        concatenate_12[0][0]             \n",
      "__________________________________________________________________________________________________\n",
      "dropout_27 (Dropout)            (None, 128, 128, 16) 0           conv2d_55[0][0]                  \n",
      "__________________________________________________________________________________________________\n",
      "conv2d_56 (Conv2D)              (None, 128, 128, 16) 2320        dropout_27[0][0]                 \n",
      "__________________________________________________________________________________________________\n",
      "conv2d_57 (Conv2D)              (None, 128, 128, 1)  17          conv2d_56[0][0]                  \n",
      "==================================================================================================\n",
      "Total params: 1,941,105\n",
      "Trainable params: 1,941,105\n",
      "Non-trainable params: 0\n",
      "__________________________________________________________________________________________________\n"
     ]
    }
   ],
   "source": [
    "# Build U-Net model\n",
    "inputs = Input((IMG_HEIGHT, IMG_WIDTH, IMG_CHANNELS))\n",
    "s = Lambda(lambda x: x / 255) (inputs)\n",
    "\n",
    "c1 = Conv2D(16, (3, 3), activation='elu', kernel_initializer='he_normal', padding='same') (s)\n",
    "c1 = Dropout(0.1) (c1)\n",
    "c1 = Conv2D(16, (3, 3), activation='elu', kernel_initializer='he_normal', padding='same') (c1)\n",
    "p1 = MaxPooling2D((2, 2)) (c1)\n",
    "\n",
    "c2 = Conv2D(32, (3, 3), activation='elu', kernel_initializer='he_normal', padding='same') (p1)\n",
    "c2 = Dropout(0.1) (c2)\n",
    "c2 = Conv2D(32, (3, 3), activation='elu', kernel_initializer='he_normal', padding='same') (c2)\n",
    "p2 = MaxPooling2D((2, 2)) (c2)\n",
    "\n",
    "c3 = Conv2D(64, (3, 3), activation='elu', kernel_initializer='he_normal', padding='same') (p2)\n",
    "c3 = Dropout(0.2) (c3)\n",
    "c3 = Conv2D(64, (3, 3), activation='elu', kernel_initializer='he_normal', padding='same') (c3)\n",
    "p3 = MaxPooling2D((2, 2)) (c3)\n",
    "\n",
    "c4 = Conv2D(128, (3, 3), activation='elu', kernel_initializer='he_normal', padding='same') (p3)\n",
    "c4 = Dropout(0.2) (c4)\n",
    "c4 = Conv2D(128, (3, 3), activation='elu', kernel_initializer='he_normal', padding='same') (c4)\n",
    "p4 = MaxPooling2D(pool_size=(2, 2)) (c4)\n",
    "\n",
    "c5 = Conv2D(256, (3, 3), activation='elu', kernel_initializer='he_normal', padding='same') (p4)\n",
    "c5 = Dropout(0.3) (c5)\n",
    "c5 = Conv2D(256, (3, 3), activation='elu', kernel_initializer='he_normal', padding='same') (c5)\n",
    "\n",
    "u6 = Conv2DTranspose(128, (2, 2), strides=(2, 2), padding='same') (c5)\n",
    "u6 = concatenate([u6, c4])\n",
    "c6 = Conv2D(128, (3, 3), activation='elu', kernel_initializer='he_normal', padding='same') (u6)\n",
    "c6 = Dropout(0.2) (c6)\n",
    "c6 = Conv2D(128, (3, 3), activation='elu', kernel_initializer='he_normal', padding='same') (c6)\n",
    "\n",
    "u7 = Conv2DTranspose(64, (2, 2), strides=(2, 2), padding='same') (c6)\n",
    "u7 = concatenate([u7, c3])\n",
    "c7 = Conv2D(64, (3, 3), activation='elu', kernel_initializer='he_normal', padding='same') (u7)\n",
    "c7 = Dropout(0.2) (c7)\n",
    "c7 = Conv2D(64, (3, 3), activation='elu', kernel_initializer='he_normal', padding='same') (c7)\n",
    "\n",
    "u8 = Conv2DTranspose(32, (2, 2), strides=(2, 2), padding='same') (c7)\n",
    "u8 = concatenate([u8, c2])\n",
    "c8 = Conv2D(32, (3, 3), activation='elu', kernel_initializer='he_normal', padding='same') (u8)\n",
    "c8 = Dropout(0.1) (c8)\n",
    "c8 = Conv2D(32, (3, 3), activation='elu', kernel_initializer='he_normal', padding='same') (c8)\n",
    "\n",
    "u9 = Conv2DTranspose(16, (2, 2), strides=(2, 2), padding='same') (c8)\n",
    "u9 = concatenate([u9, c1], axis=3)\n",
    "c9 = Conv2D(16, (3, 3), activation='elu', kernel_initializer='he_normal', padding='same') (u9)\n",
    "c9 = Dropout(0.1) (c9)\n",
    "c9 = Conv2D(16, (3, 3), activation='elu', kernel_initializer='he_normal', padding='same') (c9)\n",
    "\n",
    "outputs = Conv2D(1, (1, 1), activation='sigmoid') (c9)\n",
    "\n",
    "model = Model(inputs=[inputs], outputs=[outputs])\n",
    "model.compile(optimizer='adam', loss='binary_crossentropy', metrics=[Mean_IOU])\n",
    "model.summary()"
   ]
  },
  {
   "cell_type": "code",
   "execution_count": 95,
   "metadata": {},
   "outputs": [],
   "source": [
    "plot_model(model, to_file='model_plot.png', show_shapes=True, show_layer_names=True)"
   ]
  },
  {
   "cell_type": "markdown",
   "metadata": {},
   "source": [
    "<img style=\"float:left;transform: rotate(45deg); width:600px\" src=\"model_plot.png\" />\n"
   ]
  },
  {
   "cell_type": "markdown",
   "metadata": {},
   "source": [
    "### Train Model"
   ]
  },
  {
   "cell_type": "code",
   "execution_count": 71,
   "metadata": {},
   "outputs": [
    {
     "name": "stdout",
     "output_type": "stream",
     "text": [
      "Train on 603 samples, validate on 67 samples\n",
      "Epoch 1/50\n",
      "603/603 [==============================] - 48s 79ms/step - loss: 0.3548 - Mean_IOU: nan - val_loss: 0.2290 - val_Mean_IOU: nan\n",
      "\n",
      "Epoch 00001: val_loss improved from inf to 0.22898, saving model to model-dsbowl2018-1.h5\n",
      "Epoch 2/50\n",
      "603/603 [==============================] - 31s 52ms/step - loss: 0.1745 - Mean_IOU: nan - val_loss: 0.1453 - val_Mean_IOU: nan\n",
      "\n",
      "Epoch 00002: val_loss improved from 0.22898 to 0.14529, saving model to model-dsbowl2018-1.h5\n",
      "Epoch 3/50\n",
      "603/603 [==============================] - 31s 52ms/step - loss: 0.1363 - Mean_IOU: nan - val_loss: 0.1240 - val_Mean_IOU: nan\n",
      "\n",
      "Epoch 00003: val_loss improved from 0.14529 to 0.12397, saving model to model-dsbowl2018-1.h5\n",
      "Epoch 4/50\n",
      "603/603 [==============================] - 32s 53ms/step - loss: 0.1192 - Mean_IOU: nan - val_loss: 0.1291 - val_Mean_IOU: nan\n",
      "\n",
      "Epoch 00004: val_loss did not improve from 0.12397\n",
      "Epoch 5/50\n",
      "603/603 [==============================] - 32s 53ms/step - loss: 0.1109 - Mean_IOU: nan - val_loss: 0.1032 - val_Mean_IOU: nan\n",
      "\n",
      "Epoch 00005: val_loss improved from 0.12397 to 0.10315, saving model to model-dsbowl2018-1.h5\n",
      "Epoch 6/50\n",
      "603/603 [==============================] - 31s 52ms/step - loss: 0.0981 - Mean_IOU: nan - val_loss: 0.1144 - val_Mean_IOU: nan\n",
      "\n",
      "Epoch 00006: val_loss did not improve from 0.10315\n",
      "Epoch 7/50\n",
      "603/603 [==============================] - 32s 53ms/step - loss: 0.0942 - Mean_IOU: nan - val_loss: 0.0986 - val_Mean_IOU: nan\n",
      "\n",
      "Epoch 00007: val_loss improved from 0.10315 to 0.09858, saving model to model-dsbowl2018-1.h5\n",
      "Epoch 8/50\n",
      "603/603 [==============================] - 32s 53ms/step - loss: 0.0887 - Mean_IOU: nan - val_loss: 0.1198 - val_Mean_IOU: nan\n",
      "\n",
      "Epoch 00008: val_loss did not improve from 0.09858\n",
      "Epoch 9/50\n",
      "603/603 [==============================] - 31s 52ms/step - loss: 0.0890 - Mean_IOU: nan - val_loss: 0.0949 - val_Mean_IOU: nan\n",
      "\n",
      "Epoch 00009: val_loss improved from 0.09858 to 0.09487, saving model to model-dsbowl2018-1.h5\n",
      "Epoch 10/50\n",
      "603/603 [==============================] - 32s 53ms/step - loss: 0.0865 - Mean_IOU: nan - val_loss: 0.1051 - val_Mean_IOU: nan\n",
      "\n",
      "Epoch 00010: val_loss did not improve from 0.09487\n",
      "Epoch 11/50\n",
      "603/603 [==============================] - 32s 53ms/step - loss: 0.0809 - Mean_IOU: nan - val_loss: 0.0895 - val_Mean_IOU: nan\n",
      "\n",
      "Epoch 00011: val_loss improved from 0.09487 to 0.08946, saving model to model-dsbowl2018-1.h5\n",
      "Epoch 12/50\n",
      "603/603 [==============================] - 31s 52ms/step - loss: 0.0814 - Mean_IOU: nan - val_loss: 0.0895 - val_Mean_IOU: nan\n",
      "\n",
      "Epoch 00012: val_loss did not improve from 0.08946\n",
      "Epoch 13/50\n",
      "603/603 [==============================] - 32s 53ms/step - loss: 0.0828 - Mean_IOU: nan - val_loss: 0.0896 - val_Mean_IOU: nan\n",
      "\n",
      "Epoch 00013: val_loss did not improve from 0.08946\n",
      "Epoch 14/50\n",
      "603/603 [==============================] - 32s 53ms/step - loss: 0.0786 - Mean_IOU: nan - val_loss: 0.0875 - val_Mean_IOU: nan\n",
      "\n",
      "Epoch 00014: val_loss improved from 0.08946 to 0.08747, saving model to model-dsbowl2018-1.h5\n",
      "Epoch 15/50\n",
      "603/603 [==============================] - 33s 54ms/step - loss: 0.0827 - Mean_IOU: nan - val_loss: 0.0869 - val_Mean_IOU: nan\n",
      "\n",
      "Epoch 00015: val_loss improved from 0.08747 to 0.08691, saving model to model-dsbowl2018-1.h5\n",
      "Epoch 16/50\n",
      "603/603 [==============================] - 31s 52ms/step - loss: 0.0783 - Mean_IOU: nan - val_loss: 0.0831 - val_Mean_IOU: nan\n",
      "\n",
      "Epoch 00016: val_loss improved from 0.08691 to 0.08308, saving model to model-dsbowl2018-1.h5\n",
      "Epoch 17/50\n",
      "603/603 [==============================] - 32s 53ms/step - loss: 0.0765 - Mean_IOU: nan - val_loss: 0.0831 - val_Mean_IOU: nan\n",
      "\n",
      "Epoch 00017: val_loss improved from 0.08308 to 0.08307, saving model to model-dsbowl2018-1.h5\n",
      "Epoch 18/50\n",
      "603/603 [==============================] - 32s 52ms/step - loss: 0.0756 - Mean_IOU: nan - val_loss: 0.0837 - val_Mean_IOU: nan\n",
      "\n",
      "Epoch 00018: val_loss did not improve from 0.08307\n",
      "Epoch 19/50\n",
      "603/603 [==============================] - 32s 53ms/step - loss: 0.0777 - Mean_IOU: nan - val_loss: 0.0884 - val_Mean_IOU: nan\n",
      "\n",
      "Epoch 00019: val_loss did not improve from 0.08307\n",
      "Epoch 20/50\n",
      "603/603 [==============================] - 31s 52ms/step - loss: 0.0743 - Mean_IOU: nan - val_loss: 0.0823 - val_Mean_IOU: nan\n",
      "\n",
      "Epoch 00020: val_loss improved from 0.08307 to 0.08234, saving model to model-dsbowl2018-1.h5\n",
      "Epoch 21/50\n",
      "603/603 [==============================] - 31s 51ms/step - loss: 0.0718 - Mean_IOU: nan - val_loss: 0.0778 - val_Mean_IOU: nan\n",
      "\n",
      "Epoch 00021: val_loss improved from 0.08234 to 0.07780, saving model to model-dsbowl2018-1.h5\n",
      "Epoch 22/50\n",
      "603/603 [==============================] - 31s 51ms/step - loss: 0.0721 - Mean_IOU: nan - val_loss: 0.0773 - val_Mean_IOU: nan\n",
      "\n",
      "Epoch 00022: val_loss improved from 0.07780 to 0.07729, saving model to model-dsbowl2018-1.h5\n",
      "Epoch 23/50\n",
      "603/603 [==============================] - 31s 52ms/step - loss: 0.0700 - Mean_IOU: nan - val_loss: 0.0793 - val_Mean_IOU: nan\n",
      "\n",
      "Epoch 00023: val_loss did not improve from 0.07729\n",
      "Epoch 24/50\n",
      "603/603 [==============================] - 31s 52ms/step - loss: 0.0704 - Mean_IOU: nan - val_loss: 0.0731 - val_Mean_IOU: nan\n",
      "\n",
      "Epoch 00024: val_loss improved from 0.07729 to 0.07309, saving model to model-dsbowl2018-1.h5\n",
      "Epoch 25/50\n",
      "603/603 [==============================] - 32s 52ms/step - loss: 0.0694 - Mean_IOU: nan - val_loss: 0.0747 - val_Mean_IOU: nan\n",
      "\n",
      "Epoch 00025: val_loss did not improve from 0.07309\n",
      "Epoch 26/50\n",
      "603/603 [==============================] - 31s 51ms/step - loss: 0.0714 - Mean_IOU: nan - val_loss: 0.0736 - val_Mean_IOU: nan\n",
      "\n",
      "Epoch 00026: val_loss did not improve from 0.07309\n",
      "Epoch 27/50\n",
      "603/603 [==============================] - 31s 52ms/step - loss: 0.0679 - Mean_IOU: nan - val_loss: 0.0793 - val_Mean_IOU: nan\n",
      "\n",
      "Epoch 00027: val_loss did not improve from 0.07309\n",
      "Epoch 28/50\n",
      "603/603 [==============================] - 31s 52ms/step - loss: 0.0683 - Mean_IOU: nan - val_loss: 0.0719 - val_Mean_IOU: nan\n",
      "\n",
      "Epoch 00028: val_loss improved from 0.07309 to 0.07193, saving model to model-dsbowl2018-1.h5\n",
      "Epoch 29/50\n",
      "603/603 [==============================] - 31s 51ms/step - loss: 0.0656 - Mean_IOU: nan - val_loss: 0.0698 - val_Mean_IOU: nan\n",
      "\n",
      "Epoch 00029: val_loss improved from 0.07193 to 0.06979, saving model to model-dsbowl2018-1.h5\n",
      "Epoch 30/50\n",
      "603/603 [==============================] - 32s 53ms/step - loss: 0.0656 - Mean_IOU: nan - val_loss: 0.0724 - val_Mean_IOU: nan\n",
      "\n",
      "Epoch 00030: val_loss did not improve from 0.06979\n",
      "Epoch 31/50\n",
      "603/603 [==============================] - 32s 53ms/step - loss: 0.0640 - Mean_IOU: nan - val_loss: 0.0701 - val_Mean_IOU: nan\n",
      "\n",
      "Epoch 00031: val_loss did not improve from 0.06979\n",
      "Epoch 32/50\n",
      "603/603 [==============================] - 32s 52ms/step - loss: 0.0644 - Mean_IOU: nan - val_loss: 0.0735 - val_Mean_IOU: nan\n",
      "\n",
      "Epoch 00032: val_loss did not improve from 0.06979\n",
      "Epoch 33/50\n",
      "603/603 [==============================] - 31s 52ms/step - loss: 0.0634 - Mean_IOU: nan - val_loss: 0.0781 - val_Mean_IOU: nan\n",
      "\n",
      "Epoch 00033: val_loss did not improve from 0.06979\n",
      "Epoch 34/50\n",
      "603/603 [==============================] - 31s 52ms/step - loss: 0.0630 - Mean_IOU: nan - val_loss: 0.0797 - val_Mean_IOU: nan\n",
      "\n",
      "Epoch 00034: val_loss did not improve from 0.06979\n",
      "Epoch 00034: early stopping\n"
     ]
    }
   ],
   "source": [
    "# Fit model\n",
    "earlystopper = EarlyStopping(patience=5, verbose=1)\n",
    "checkpointer = ModelCheckpoint('model-dsbowl2018-1.h5', verbose=1, save_best_only=True)\n",
    "results = model.fit(X_train, Y_train, validation_split=0.1, batch_size=16, epochs=50, \n",
    "                    callbacks=[earlystopper, checkpointer])"
   ]
  },
  {
   "cell_type": "markdown",
   "metadata": {},
   "source": [
    "### Predict"
   ]
  },
  {
   "cell_type": "code",
   "execution_count": 78,
   "metadata": {},
   "outputs": [
    {
     "name": "stdout",
     "output_type": "stream",
     "text": [
      "603/603 [==============================] - 17s 28ms/step\n",
      "67/67 [==============================] - 1s 12ms/step\n",
      "65/65 [==============================] - 2s 25ms/step\n"
     ]
    }
   ],
   "source": [
    "# Predict on train, val and test\n",
    "#model = load_model('model-dsbowl2018-1.h5', custom_objects={'mean_iou': Mean_IOU})\n",
    "model = load_model('model-dsbowl2018-1.h5', custom_objects={'Mean_IOU': Mean_IOU})\n",
    "\n",
    "preds_train = model.predict(X_train[:int(X_train.shape[0]*0.9)], verbose=1)\n",
    "preds_val = model.predict(X_train[int(X_train.shape[0]*0.9):], verbose=1)\n",
    "preds_test = model.predict(X_test, verbose=1)\n",
    "\n",
    "# Threshold predictions\n",
    "preds_train_t = (preds_train > 0.5).astype(np.uint8)\n",
    "preds_val_t = (preds_val > 0.5).astype(np.uint8)\n",
    "preds_test_t = (preds_test > 0.5).astype(np.uint8)\n",
    "\n",
    "# Create list of upsampled test masks\n",
    "preds_test_upsampled = []\n",
    "for i in range(len(preds_test)):\n",
    "    preds_test_upsampled.append(resize(np.squeeze(preds_test[i]), \n",
    "                                       (sizes_test[i][0], sizes_test[i][1]), \n",
    "                                       mode='constant', preserve_range=True))"
   ]
  },
  {
   "cell_type": "code",
   "execution_count": 100,
   "metadata": {},
   "outputs": [
    {
     "data": {
      "image/png": "[encoded data removed]",
      "text/plain": [
       "<Figure size 432x288 with 2 Axes>"
      ]
     },
     "metadata": {
      "needs_background": "light"
     },
     "output_type": "display_data"
    },
    {
     "data": {
      "image/png": "[encoded data removed]",
      "text/plain": [
       "<Figure size 432x288 with 2 Axes>"
      ]
     },
     "metadata": {
      "needs_background": "light"
     },
     "output_type": "display_data"
    },
    {
     "data": {
      "image/png": "[encoded data removed]",
      "text/plain": [
       "<Figure size 432x288 with 2 Axes>"
      ]
     },
     "metadata": {
      "needs_background": "light"
     },
     "output_type": "display_data"
    },
    {
     "data": {
      "image/png": "[encoded data removed]",
      "text/plain": [
       "<Figure size 432x288 with 2 Axes>"
      ]
     },
     "metadata": {
      "needs_background": "light"
     },
     "output_type": "display_data"
    }
   ],
   "source": [
    "# Perform a sanity check on some random training samples\n",
    "ix = random.randint(0, len(preds_train_t))\n",
    "imshow(X_train[ix])\n",
    "plt.show()\n",
    "imshow(np.squeeze(Y_train[ix]))\n",
    "plt.show()\n",
    "imshow(np.squeeze(preds_train_t[ix]))\n",
    "plt.show()\n",
    "imshow(np.squeeze(preds_train_t[ix])-np.squeeze(Y_train[ix]))\n",
    "plt.show()"
   ]
  },
  {
   "cell_type": "code",
   "execution_count": 105,
   "metadata": {},
   "outputs": [],
   "source": [
    "from keras.preprocessing import image as image_k"
   ]
  },
  {
   "cell_type": "code",
   "execution_count": 164,
   "metadata": {},
   "outputs": [
    {
     "ename": "InvalidArgumentError",
     "evalue": "input_3:0 is both fed and fetched.",
     "output_type": "error",
     "traceback": [
      "\u001b[0;31m---------------------------------------------------------------------------\u001b[0m",
      "\u001b[0;31mInvalidArgumentError\u001b[0m                      Traceback (most recent call last)",
      "\u001b[0;32m<ipython-input-164-1b85a717b6fe>\u001b[0m in \u001b[0;36m<module>\u001b[0;34m\u001b[0m\n\u001b[1;32m      8\u001b[0m \u001b[0mlayer_outputs\u001b[0m \u001b[0;34m=\u001b[0m \u001b[0;34m[\u001b[0m\u001b[0mlayer\u001b[0m\u001b[0;34m.\u001b[0m\u001b[0moutput\u001b[0m \u001b[0;32mfor\u001b[0m \u001b[0mlayer\u001b[0m \u001b[0;32min\u001b[0m \u001b[0mmodel\u001b[0m\u001b[0;34m.\u001b[0m\u001b[0mlayers\u001b[0m\u001b[0;34m]\u001b[0m \u001b[0;31m# Extracts the outputs of the top 12 layers\u001b[0m\u001b[0;34m\u001b[0m\u001b[0;34m\u001b[0m\u001b[0m\n\u001b[1;32m      9\u001b[0m \u001b[0mactivation_model\u001b[0m \u001b[0;34m=\u001b[0m \u001b[0mModel\u001b[0m\u001b[0;34m(\u001b[0m\u001b[0minputs\u001b[0m\u001b[0;34m=\u001b[0m\u001b[0mmodel\u001b[0m\u001b[0;34m.\u001b[0m\u001b[0minput\u001b[0m\u001b[0;34m,\u001b[0m \u001b[0moutputs\u001b[0m\u001b[0;34m=\u001b[0m\u001b[0mlayer_outputs\u001b[0m\u001b[0;34m)\u001b[0m \u001b[0;31m# Creates a model that will return these outputs, given the model input\u001b[0m\u001b[0;34m\u001b[0m\u001b[0;34m\u001b[0m\u001b[0m\n\u001b[0;32m---> 10\u001b[0;31m \u001b[0mactivations\u001b[0m \u001b[0;34m=\u001b[0m \u001b[0mactivation_model\u001b[0m\u001b[0;34m.\u001b[0m\u001b[0mpredict\u001b[0m\u001b[0;34m(\u001b[0m\u001b[0mX_test\u001b[0m\u001b[0;34m)\u001b[0m \u001b[0;31m# Returns a list of five Numpy arrays: one array per layer activation\u001b[0m\u001b[0;34m\u001b[0m\u001b[0;34m\u001b[0m\u001b[0m\n\u001b[0m\u001b[1;32m     11\u001b[0m \u001b[0;34m\u001b[0m\u001b[0m\n\u001b[1;32m     12\u001b[0m \u001b[0;34m\u001b[0m\u001b[0m\n",
      "\u001b[0;32m/usr/local/lib/python3.6/dist-packages/keras/engine/training.py\u001b[0m in \u001b[0;36mpredict\u001b[0;34m(self, x, batch_size, verbose, steps)\u001b[0m\n\u001b[1;32m   1167\u001b[0m                                             \u001b[0mbatch_size\u001b[0m\u001b[0;34m=\u001b[0m\u001b[0mbatch_size\u001b[0m\u001b[0;34m,\u001b[0m\u001b[0;34m\u001b[0m\u001b[0;34m\u001b[0m\u001b[0m\n\u001b[1;32m   1168\u001b[0m                                             \u001b[0mverbose\u001b[0m\u001b[0;34m=\u001b[0m\u001b[0mverbose\u001b[0m\u001b[0;34m,\u001b[0m\u001b[0;34m\u001b[0m\u001b[0;34m\u001b[0m\u001b[0m\n\u001b[0;32m-> 1169\u001b[0;31m                                             steps=steps)\n\u001b[0m\u001b[1;32m   1170\u001b[0m \u001b[0;34m\u001b[0m\u001b[0m\n\u001b[1;32m   1171\u001b[0m     def train_on_batch(self, x, y,\n",
      "\u001b[0;32m/usr/local/lib/python3.6/dist-packages/keras/engine/training_arrays.py\u001b[0m in \u001b[0;36mpredict_loop\u001b[0;34m(model, f, ins, batch_size, verbose, steps)\u001b[0m\n\u001b[1;32m    292\u001b[0m                 \u001b[0mins_batch\u001b[0m\u001b[0;34m[\u001b[0m\u001b[0mi\u001b[0m\u001b[0;34m]\u001b[0m \u001b[0;34m=\u001b[0m \u001b[0mins_batch\u001b[0m\u001b[0;34m[\u001b[0m\u001b[0mi\u001b[0m\u001b[0;34m]\u001b[0m\u001b[0;34m.\u001b[0m\u001b[0mtoarray\u001b[0m\u001b[0;34m(\u001b[0m\u001b[0;34m)\u001b[0m\u001b[0;34m\u001b[0m\u001b[0;34m\u001b[0m\u001b[0m\n\u001b[1;32m    293\u001b[0m \u001b[0;34m\u001b[0m\u001b[0m\n\u001b[0;32m--> 294\u001b[0;31m             \u001b[0mbatch_outs\u001b[0m \u001b[0;34m=\u001b[0m \u001b[0mf\u001b[0m\u001b[0;34m(\u001b[0m\u001b[0mins_batch\u001b[0m\u001b[0;34m)\u001b[0m\u001b[0;34m\u001b[0m\u001b[0;34m\u001b[0m\u001b[0m\n\u001b[0m\u001b[1;32m    295\u001b[0m             \u001b[0mbatch_outs\u001b[0m \u001b[0;34m=\u001b[0m \u001b[0mto_list\u001b[0m\u001b[0;34m(\u001b[0m\u001b[0mbatch_outs\u001b[0m\u001b[0;34m)\u001b[0m\u001b[0;34m\u001b[0m\u001b[0;34m\u001b[0m\u001b[0m\n\u001b[1;32m    296\u001b[0m             \u001b[0;32mif\u001b[0m \u001b[0mbatch_index\u001b[0m \u001b[0;34m==\u001b[0m \u001b[0;36m0\u001b[0m\u001b[0;34m:\u001b[0m\u001b[0;34m\u001b[0m\u001b[0;34m\u001b[0m\u001b[0m\n",
      "\u001b[0;32m/usr/local/lib/python3.6/dist-packages/keras/backend/tensorflow_backend.py\u001b[0m in \u001b[0;36m__call__\u001b[0;34m(self, inputs)\u001b[0m\n\u001b[1;32m   2713\u001b[0m                 \u001b[0;32mreturn\u001b[0m \u001b[0mself\u001b[0m\u001b[0;34m.\u001b[0m\u001b[0m_legacy_call\u001b[0m\u001b[0;34m(\u001b[0m\u001b[0minputs\u001b[0m\u001b[0;34m)\u001b[0m\u001b[0;34m\u001b[0m\u001b[0;34m\u001b[0m\u001b[0m\n\u001b[1;32m   2714\u001b[0m \u001b[0;34m\u001b[0m\u001b[0m\n\u001b[0;32m-> 2715\u001b[0;31m             \u001b[0;32mreturn\u001b[0m \u001b[0mself\u001b[0m\u001b[0;34m.\u001b[0m\u001b[0m_call\u001b[0m\u001b[0;34m(\u001b[0m\u001b[0minputs\u001b[0m\u001b[0;34m)\u001b[0m\u001b[0;34m\u001b[0m\u001b[0;34m\u001b[0m\u001b[0m\n\u001b[0m\u001b[1;32m   2716\u001b[0m         \u001b[0;32melse\u001b[0m\u001b[0;34m:\u001b[0m\u001b[0;34m\u001b[0m\u001b[0;34m\u001b[0m\u001b[0m\n\u001b[1;32m   2717\u001b[0m             \u001b[0;32mif\u001b[0m \u001b[0mpy_any\u001b[0m\u001b[0;34m(\u001b[0m\u001b[0mis_tensor\u001b[0m\u001b[0;34m(\u001b[0m\u001b[0mx\u001b[0m\u001b[0;34m)\u001b[0m \u001b[0;32mfor\u001b[0m \u001b[0mx\u001b[0m \u001b[0;32min\u001b[0m \u001b[0minputs\u001b[0m\u001b[0;34m)\u001b[0m\u001b[0;34m:\u001b[0m\u001b[0;34m\u001b[0m\u001b[0;34m\u001b[0m\u001b[0m\n",
      "\u001b[0;32m/usr/local/lib/python3.6/dist-packages/keras/backend/tensorflow_backend.py\u001b[0m in \u001b[0;36m_call\u001b[0;34m(self, inputs)\u001b[0m\n\u001b[1;32m   2669\u001b[0m                                 \u001b[0mfeed_symbols\u001b[0m\u001b[0;34m,\u001b[0m\u001b[0;34m\u001b[0m\u001b[0;34m\u001b[0m\u001b[0m\n\u001b[1;32m   2670\u001b[0m                                 \u001b[0msymbol_vals\u001b[0m\u001b[0;34m,\u001b[0m\u001b[0;34m\u001b[0m\u001b[0;34m\u001b[0m\u001b[0m\n\u001b[0;32m-> 2671\u001b[0;31m                                 session)\n\u001b[0m\u001b[1;32m   2672\u001b[0m         \u001b[0;32mif\u001b[0m \u001b[0mself\u001b[0m\u001b[0;34m.\u001b[0m\u001b[0mrun_metadata\u001b[0m\u001b[0;34m:\u001b[0m\u001b[0;34m\u001b[0m\u001b[0;34m\u001b[0m\u001b[0m\n\u001b[1;32m   2673\u001b[0m             \u001b[0mfetched\u001b[0m \u001b[0;34m=\u001b[0m \u001b[0mself\u001b[0m\u001b[0;34m.\u001b[0m\u001b[0m_callable_fn\u001b[0m\u001b[0;34m(\u001b[0m\u001b[0;34m*\u001b[0m\u001b[0marray_vals\u001b[0m\u001b[0;34m,\u001b[0m \u001b[0mrun_metadata\u001b[0m\u001b[0;34m=\u001b[0m\u001b[0mself\u001b[0m\u001b[0;34m.\u001b[0m\u001b[0mrun_metadata\u001b[0m\u001b[0;34m)\u001b[0m\u001b[0;34m\u001b[0m\u001b[0;34m\u001b[0m\u001b[0m\n",
      "\u001b[0;32m/usr/local/lib/python3.6/dist-packages/keras/backend/tensorflow_backend.py\u001b[0m in \u001b[0;36m_make_callable\u001b[0;34m(self, feed_arrays, feed_symbols, symbol_vals, session)\u001b[0m\n\u001b[1;32m   2621\u001b[0m             \u001b[0mcallable_opts\u001b[0m\u001b[0;34m.\u001b[0m\u001b[0mrun_options\u001b[0m\u001b[0;34m.\u001b[0m\u001b[0mCopyFrom\u001b[0m\u001b[0;34m(\u001b[0m\u001b[0mself\u001b[0m\u001b[0;34m.\u001b[0m\u001b[0mrun_options\u001b[0m\u001b[0;34m)\u001b[0m\u001b[0;34m\u001b[0m\u001b[0;34m\u001b[0m\u001b[0m\n\u001b[1;32m   2622\u001b[0m         \u001b[0;31m# Create callable.\u001b[0m\u001b[0;34m\u001b[0m\u001b[0;34m\u001b[0m\u001b[0;34m\u001b[0m\u001b[0m\n\u001b[0;32m-> 2623\u001b[0;31m         \u001b[0mcallable_fn\u001b[0m \u001b[0;34m=\u001b[0m \u001b[0msession\u001b[0m\u001b[0;34m.\u001b[0m\u001b[0m_make_callable_from_options\u001b[0m\u001b[0;34m(\u001b[0m\u001b[0mcallable_opts\u001b[0m\u001b[0;34m)\u001b[0m\u001b[0;34m\u001b[0m\u001b[0;34m\u001b[0m\u001b[0m\n\u001b[0m\u001b[1;32m   2624\u001b[0m         \u001b[0;31m# Cache parameters corresponding to the generated callable, so that\u001b[0m\u001b[0;34m\u001b[0m\u001b[0;34m\u001b[0m\u001b[0;34m\u001b[0m\u001b[0m\n\u001b[1;32m   2625\u001b[0m         \u001b[0;31m# we can detect future mismatches and refresh the callable.\u001b[0m\u001b[0;34m\u001b[0m\u001b[0;34m\u001b[0m\u001b[0;34m\u001b[0m\u001b[0m\n",
      "\u001b[0;32m/usr/local/lib/python3.6/dist-packages/tensorflow/python/client/session.py\u001b[0m in \u001b[0;36m_make_callable_from_options\u001b[0;34m(self, callable_options)\u001b[0m\n\u001b[1;32m   1469\u001b[0m     \"\"\"\n\u001b[1;32m   1470\u001b[0m     \u001b[0mself\u001b[0m\u001b[0;34m.\u001b[0m\u001b[0m_extend_graph\u001b[0m\u001b[0;34m(\u001b[0m\u001b[0;34m)\u001b[0m\u001b[0;34m\u001b[0m\u001b[0;34m\u001b[0m\u001b[0m\n\u001b[0;32m-> 1471\u001b[0;31m     \u001b[0;32mreturn\u001b[0m \u001b[0mBaseSession\u001b[0m\u001b[0;34m.\u001b[0m\u001b[0m_Callable\u001b[0m\u001b[0;34m(\u001b[0m\u001b[0mself\u001b[0m\u001b[0;34m,\u001b[0m \u001b[0mcallable_options\u001b[0m\u001b[0;34m)\u001b[0m\u001b[0;34m\u001b[0m\u001b[0;34m\u001b[0m\u001b[0m\n\u001b[0m\u001b[1;32m   1472\u001b[0m \u001b[0;34m\u001b[0m\u001b[0m\n\u001b[1;32m   1473\u001b[0m \u001b[0;34m\u001b[0m\u001b[0m\n",
      "\u001b[0;32m/usr/local/lib/python3.6/dist-packages/tensorflow/python/client/session.py\u001b[0m in \u001b[0;36m__init__\u001b[0;34m(self, session, callable_options)\u001b[0m\n\u001b[1;32m   1423\u001b[0m         \u001b[0;32mwith\u001b[0m \u001b[0merrors\u001b[0m\u001b[0;34m.\u001b[0m\u001b[0mraise_exception_on_not_ok_status\u001b[0m\u001b[0;34m(\u001b[0m\u001b[0;34m)\u001b[0m \u001b[0;32mas\u001b[0m \u001b[0mstatus\u001b[0m\u001b[0;34m:\u001b[0m\u001b[0;34m\u001b[0m\u001b[0;34m\u001b[0m\u001b[0m\n\u001b[1;32m   1424\u001b[0m           self._handle = tf_session.TF_SessionMakeCallable(\n\u001b[0;32m-> 1425\u001b[0;31m               session._session, options_ptr, status)\n\u001b[0m\u001b[1;32m   1426\u001b[0m       \u001b[0;32mfinally\u001b[0m\u001b[0;34m:\u001b[0m\u001b[0;34m\u001b[0m\u001b[0;34m\u001b[0m\u001b[0m\n\u001b[1;32m   1427\u001b[0m         \u001b[0mtf_session\u001b[0m\u001b[0;34m.\u001b[0m\u001b[0mTF_DeleteBuffer\u001b[0m\u001b[0;34m(\u001b[0m\u001b[0moptions_ptr\u001b[0m\u001b[0;34m)\u001b[0m\u001b[0;34m\u001b[0m\u001b[0;34m\u001b[0m\u001b[0m\n",
      "\u001b[0;32m/usr/local/lib/python3.6/dist-packages/tensorflow/python/framework/errors_impl.py\u001b[0m in \u001b[0;36m__exit__\u001b[0;34m(self, type_arg, value_arg, traceback_arg)\u001b[0m\n\u001b[1;32m    526\u001b[0m             \u001b[0;32mNone\u001b[0m\u001b[0;34m,\u001b[0m \u001b[0;32mNone\u001b[0m\u001b[0;34m,\u001b[0m\u001b[0;34m\u001b[0m\u001b[0;34m\u001b[0m\u001b[0m\n\u001b[1;32m    527\u001b[0m             \u001b[0mcompat\u001b[0m\u001b[0;34m.\u001b[0m\u001b[0mas_text\u001b[0m\u001b[0;34m(\u001b[0m\u001b[0mc_api\u001b[0m\u001b[0;34m.\u001b[0m\u001b[0mTF_Message\u001b[0m\u001b[0;34m(\u001b[0m\u001b[0mself\u001b[0m\u001b[0;34m.\u001b[0m\u001b[0mstatus\u001b[0m\u001b[0;34m.\u001b[0m\u001b[0mstatus\u001b[0m\u001b[0;34m)\u001b[0m\u001b[0;34m)\u001b[0m\u001b[0;34m,\u001b[0m\u001b[0;34m\u001b[0m\u001b[0;34m\u001b[0m\u001b[0m\n\u001b[0;32m--> 528\u001b[0;31m             c_api.TF_GetCode(self.status.status))\n\u001b[0m\u001b[1;32m    529\u001b[0m     \u001b[0;31m# Delete the underlying status object from memory otherwise it stays alive\u001b[0m\u001b[0;34m\u001b[0m\u001b[0;34m\u001b[0m\u001b[0;34m\u001b[0m\u001b[0m\n\u001b[1;32m    530\u001b[0m     \u001b[0;31m# as there is a reference to status from this from the traceback due to\u001b[0m\u001b[0;34m\u001b[0m\u001b[0;34m\u001b[0m\u001b[0;34m\u001b[0m\u001b[0m\n",
      "\u001b[0;31mInvalidArgumentError\u001b[0m: input_3:0 is both fed and fetched."
     ]
    }
   ],
   "source": [
    "ix = random.randint(0, len(preds_train_t))\n",
    "img = X_train[ix,:,:,:]\n",
    "img_tensor = image_k.img_to_array(img)\n",
    "img_tensor = np.expand_dims(img_tensor, axis=0)\n",
    "img_tensor /= 255.\n",
    "#imshow(img)\n",
    "\n",
    "layer_outputs = [layer.output for layer in model.layers] # Extracts the outputs of the top 12 layers\n",
    "activation_model = Model(inputs=model.input, outputs=layer_outputs) # Creates a model that will return these outputs, given the model input\n",
    "activations = activation_model.predict(X_test) # Returns a list of five Numpy arrays: one array per layer activation\n",
    "\n",
    "\n",
    "layer_names = []\n",
    "for layer in model.layers:\n",
    "    layer_names.append(layer.name) # Names of the layers, so you can have them as part of your plot\n",
    "    \n",
    "images_per_row = 16\n",
    "\n",
    "for layer_name, layer_activation in zip(layer_names, activations): # Displays the feature maps\n",
    "    n_features = layer_activation.shape[-1] # Number of features in the feature map\n",
    "    size = layer_activation.shape[1] #The feature map has shape (1, size, size, n_features).\n",
    "    n_cols = n_features // images_per_row # Tiles the activation channels in this matrix\n",
    "    display_grid = np.zeros((size * n_cols, images_per_row * size))\n",
    "    for col in range(n_cols): # Tiles each filter into a big horizontal grid\n",
    "        for row in range(images_per_row):\n",
    "            channel_image = layer_activation[0,\n",
    "                                             :, :,\n",
    "                                             col * images_per_row + row]\n",
    "            channel_image -= channel_image.mean() # Post-processes the feature to make it visually palatable\n",
    "            channel_image /= channel_image.std()\n",
    "            channel_image *= 64\n",
    "            channel_image += 128\n",
    "            channel_image = np.clip(channel_image, 0, 255).astype('uint8')\n",
    "            display_grid[col * size : (col + 1) * size, # Displays the grid\n",
    "                         row * size : (row + 1) * size] = channel_image\n",
    "    scale = 1. / size\n",
    "    #plt.figure(figsize=(scale * display_grid.shape[1],\n",
    "    #                    scale * display_grid.shape[0]))\n",
    "    #plt.title(layer_name)\n",
    "    #plt.grid(False)\n",
    "    print(layer_name)\n",
    "    imshow(display_grid, aspect='auto', cmap='viridis')\n",
    "    plt.show()"
   ]
  },
  {
   "cell_type": "code",
   "execution_count": 163,
   "metadata": {},
   "outputs": [
    {
     "data": {
      "text/plain": [
       "<tf.Tensor 'input_3:0' shape=(?, 128, 128, 3) dtype=float32>"
      ]
     },
     "execution_count": 163,
     "metadata": {},
     "output_type": "execute_result"
    }
   ],
   "source": [
    "model.input"
   ]
  },
  {
   "cell_type": "code",
   "execution_count": 171,
   "metadata": {},
   "outputs": [],
   "source": [
    "def getConvOutput(model,index=-1):\n",
    "    # index=-1 means last convolutional layer\n",
    "    layers = model.layers\n",
    "    return [layer.output for layer in layers][index]\n",
    "    #return [layer.output for layer in layers if type(layer) is tf.keras.layers.Conv2D][index]"
   ]
  },
  {
   "cell_type": "code",
   "execution_count": 19,
   "metadata": {},
   "outputs": [],
   "source": [
    "model = load_model('model-dsbowl2018-1.h5', custom_objects={'Mean_IOU': Mean_IOU})"
   ]
  },
  {
   "cell_type": "code",
   "execution_count": 13,
   "metadata": {},
   "outputs": [],
   "source": [
    "#https://github.com/keras-team/keras/blob/master/examples/conv_filter_visualization.py\n",
    "\"\"\"\n",
    "#Visualization of the filters of VGG16, via gradient ascent in input space.\n",
    "This script can run on CPU in a few minutes.\n",
    "Results example: ![Visualization](http://i.imgur.com/4nj4KjN.jpg)\n",
    "\"\"\"\n",
    "from __future__ import print_function\n",
    "\n",
    "import time\n",
    "import numpy as np\n",
    "from PIL import Image as pil_image\n",
    "from keras.preprocessing.image import save_img\n",
    "from keras import layers\n",
    "from keras.applications import vgg16\n",
    "from keras import backend as K\n",
    "\n",
    "\n",
    "def normalize(x):\n",
    "    \"\"\"utility function to normalize a tensor.\n",
    "    # Arguments\n",
    "        x: An input tensor.\n",
    "    # Returns\n",
    "        The normalized input tensor.\n",
    "    \"\"\"\n",
    "    return x / (K.sqrt(K.mean(K.square(x))) + K.epsilon())\n",
    "\n",
    "\n",
    "def deprocess_image(x):\n",
    "    \"\"\"utility function to convert a float array into a valid uint8 image.\n",
    "    # Arguments\n",
    "        x: A numpy-array representing the generated image.\n",
    "    # Returns\n",
    "        A processed numpy-array, which could be used in e.g. imshow.\n",
    "    \"\"\"\n",
    "    # normalize tensor: center on 0., ensure std is 0.25\n",
    "    x -= x.mean()\n",
    "    x /= (x.std() + K.epsilon())\n",
    "    x *= 0.25\n",
    "\n",
    "    # clip to [0, 1]\n",
    "    x += 0.5\n",
    "    x = np.clip(x, 0, 1)\n",
    "\n",
    "    # convert to RGB array\n",
    "    x *= 255\n",
    "    if K.image_data_format() == 'channels_first':\n",
    "        x = x.transpose((1, 2, 0))\n",
    "    x = np.clip(x, 0, 255).astype('uint8')\n",
    "    return x\n",
    "\n",
    "\n",
    "def process_image(x, former):\n",
    "    \"\"\"utility function to convert a valid uint8 image back into a float array.\n",
    "       Reverses `deprocess_image`.\n",
    "    # Arguments\n",
    "        x: A numpy-array, which could be used in e.g. imshow.\n",
    "        former: The former numpy-array.\n",
    "                Need to determine the former mean and variance.\n",
    "    # Returns\n",
    "        A processed numpy-array representing the generated image.\n",
    "    \"\"\"\n",
    "    if K.image_data_format() == 'channels_first':\n",
    "        x = x.transpose((2, 0, 1))\n",
    "    return (x / 255 - 0.5) * 4 * former.std() + former.mean()\n",
    "\n",
    "\n",
    "def visualize_layer(model,\n",
    "                    layer_name,\n",
    "                    step=1.,\n",
    "                    epochs=15,\n",
    "                    upscaling_steps=9,\n",
    "                    upscaling_factor=1.2,\n",
    "                    output_dim=(128, 128),\n",
    "                    filter_range=(0, None)):\n",
    "    \"\"\"Visualizes the most relevant filters of one conv-layer in a certain model.\n",
    "    # Arguments\n",
    "        model: The model containing layer_name.\n",
    "        layer_name: The name of the layer to be visualized.\n",
    "                    Has to be a part of model.\n",
    "        step: step size for gradient ascent.\n",
    "        epochs: Number of iterations for gradient ascent.\n",
    "        upscaling_steps: Number of upscaling steps.\n",
    "                         Starting image is in this case (80, 80).\n",
    "        upscaling_factor: Factor to which to slowly upgrade\n",
    "                          the image towards output_dim.\n",
    "        output_dim: [img_width, img_height] The output image dimensions.\n",
    "        filter_range: Tupel[lower, upper]\n",
    "                      Determines the to be computed filter numbers.\n",
    "                      If the second value is `None`,\n",
    "                      the last filter will be inferred as the upper boundary.\n",
    "    \"\"\"\n",
    "\n",
    "    def _generate_filter_image(input_img,\n",
    "                               layer_output,\n",
    "                               filter_index):\n",
    "        \"\"\"Generates image for one particular filter.\n",
    "        # Arguments\n",
    "            input_img: The input-image Tensor.\n",
    "            layer_output: The output-image Tensor.\n",
    "            filter_index: The to be processed filter number.\n",
    "                          Assumed to be valid.\n",
    "        #Returns\n",
    "            Either None if no image could be generated.\n",
    "            or a tuple of the image (array) itself and the last loss.\n",
    "        \"\"\"\n",
    "        s_time = time.time()\n",
    "\n",
    "        # we build a loss function that maximizes the activation\n",
    "        # of the nth filter of the layer considered\n",
    "        if K.image_data_format() == 'channels_first':\n",
    "            loss = K.mean(layer_output[:, filter_index, :, :])\n",
    "        else:\n",
    "            loss = K.mean(layer_output[:, :, :, filter_index])\n",
    "\n",
    "        # we compute the gradient of the input picture wrt this loss\n",
    "        grads = K.gradients(loss, input_img)[0]\n",
    "\n",
    "        # normalization trick: we normalize the gradient\n",
    "        grads = normalize(grads)\n",
    "\n",
    "        # this function returns the loss and grads given the input picture\n",
    "        iterate = K.function([input_img], [loss, grads])\n",
    "\n",
    "        # we start from a gray image with some random noise\n",
    "        intermediate_dim = tuple(\n",
    "            int(x / (upscaling_factor ** upscaling_steps)) for x in output_dim)\n",
    "        if K.image_data_format() == 'channels_first':\n",
    "            input_img_data = np.random.random(\n",
    "                (1, 3, intermediate_dim[0], intermediate_dim[1]))\n",
    "        else:\n",
    "            input_img_data = np.random.random(\n",
    "                (1, intermediate_dim[0], intermediate_dim[1], 3))\n",
    "        input_img_data = (input_img_data - 0.5) * 20 + 128\n",
    "\n",
    "        # Slowly upscaling towards the original size prevents\n",
    "        # a dominating high-frequency of the to visualized structure\n",
    "        # as it would occur if we directly compute the 412d-image.\n",
    "        # Behaves as a better starting point for each following dimension\n",
    "        # and therefore avoids poor local minima\n",
    "        for up in reversed(range(upscaling_steps)):\n",
    "            # we run gradient ascent for e.g. 20 steps\n",
    "            for _ in range(epochs):\n",
    "                loss_value, grads_value = iterate([input_img_data])\n",
    "                input_img_data += grads_value * step\n",
    "\n",
    "                # some filters get stuck to 0, we can skip them\n",
    "                if loss_value <= K.epsilon():\n",
    "                    return None\n",
    "\n",
    "            # Calulate upscaled dimension\n",
    "            intermediate_dim = tuple(\n",
    "                int(x / (upscaling_factor ** up)) for x in output_dim)\n",
    "            # Upscale\n",
    "            img = deprocess_image(input_img_data[0])\n",
    "            img = np.array(pil_image.fromarray(img).resize(intermediate_dim,\n",
    "                                                           pil_image.BICUBIC))\n",
    "            input_img_data = [process_image(img, input_img_data[0])]\n",
    "\n",
    "        # decode the resulting input image\n",
    "        img = deprocess_image(input_img_data[0])\n",
    "        e_time = time.time()\n",
    "        print('Costs of filter {:3}: {:5.0f} ( {:4.2f}s )'.format(filter_index,\n",
    "                                                                  loss_value,\n",
    "                                                                  e_time - s_time))\n",
    "        return img, loss_value\n",
    "\n",
    "    def _draw_filters(filters, n=None):\n",
    "        \"\"\"Draw the best filters in a nxn grid.\n",
    "        # Arguments\n",
    "            filters: A List of generated images and their corresponding losses\n",
    "                     for each processed filter.\n",
    "            n: dimension of the grid.\n",
    "               If none, the largest possible square will be used\n",
    "        \"\"\"\n",
    "        if n is None:\n",
    "            n = int(np.floor(np.sqrt(len(filters))))\n",
    "\n",
    "        # the filters that have the highest loss are assumed to be better-looking.\n",
    "        # we will only keep the top n*n filters.\n",
    "        filters.sort(key=lambda x: x[1], reverse=True)\n",
    "        filters = filters[:n * n]\n",
    "\n",
    "        # build a black picture with enough space for\n",
    "        # e.g. our 8 x 8 filters of size 412 x 412, with a 5px margin in between\n",
    "        MARGIN = 5\n",
    "        width = n * output_dim[0] + (n - 1) * MARGIN\n",
    "        height = n * output_dim[1] + (n - 1) * MARGIN\n",
    "        stitched_filters = np.zeros((width, height, 3), dtype='uint8')\n",
    "\n",
    "        # fill the picture with our saved filters\n",
    "        for i in range(n):\n",
    "            for j in range(n):\n",
    "                img, _ = filters[i * n + j]\n",
    "                width_margin = (output_dim[0] + MARGIN) * i\n",
    "                height_margin = (output_dim[1] + MARGIN) * j\n",
    "                stitched_filters[\n",
    "                    width_margin: width_margin + output_dim[0],\n",
    "                    height_margin: height_margin + output_dim[1], :] = img\n",
    "\n",
    "        # save the result to disk\n",
    "        save_img('vgg_{0:}_{1:}x{1:}.png'.format(layer_name, n), stitched_filters)\n",
    "\n",
    "    # this is the placeholder for the input images\n",
    "    assert len(model.inputs) == 1\n",
    "    input_img = model.inputs[0]\n",
    "\n",
    "    # get the symbolic outputs of each \"key\" layer (we gave them unique names).\n",
    "    layer_dict = dict([(layer.name, layer) for layer in model.layers[1:]])\n",
    "\n",
    "    output_layer = layer_dict[layer_name]\n",
    "    #assert isinstance(output_layer, layers.Conv2D)\n",
    "\n",
    "    # Compute to be processed filter range\n",
    "    filter_lower = filter_range[0]\n",
    "    filter_upper = (filter_range[1]\n",
    "                    if filter_range[1] is not None\n",
    "                    else len(output_layer.get_weights()[1]))\n",
    "    assert(filter_lower >= 0\n",
    "           and filter_upper <= len(output_layer.get_weights()[1])\n",
    "           and filter_upper > filter_lower)\n",
    "    print('Compute filters {:} to {:}'.format(filter_lower, filter_upper))\n",
    "\n",
    "    # iterate through each filter and generate its corresponding image\n",
    "    processed_filters = []\n",
    "    for f in range(filter_lower, filter_upper):\n",
    "        img_loss = _generate_filter_image(input_img, output_layer.output, f)\n",
    "\n",
    "        if img_loss is not None:\n",
    "            processed_filters.append(img_loss)\n",
    "\n",
    "    print('{} filter processed.'.format(len(processed_filters)))\n",
    "    # Finally draw and store the best filters to disk\n",
    "    _draw_filters(processed_filters)\n",
    "\n",
    "\n"
   ]
  },
  {
   "cell_type": "code",
   "execution_count": 18,
   "metadata": {},
   "outputs": [
    {
     "ename": "KeyError",
     "evalue": "'conv2d_42'",
     "output_type": "error",
     "traceback": [
      "\u001b[0;31m---------------------------------------------------------------------------\u001b[0m",
      "\u001b[0;31mKeyError\u001b[0m                                  Traceback (most recent call last)",
      "\u001b[0;32m<ipython-input-18-6d601f1c5a65>\u001b[0m in \u001b[0;36m<module>\u001b[0;34m\u001b[0m\n\u001b[0;32m----> 1\u001b[0;31m \u001b[0mvisualize_layer\u001b[0m\u001b[0;34m(\u001b[0m\u001b[0mmodel\u001b[0m\u001b[0;34m,\u001b[0m \u001b[0;34m'conv2d_42'\u001b[0m\u001b[0;34m)\u001b[0m\u001b[0;34m\u001b[0m\u001b[0;34m\u001b[0m\u001b[0m\n\u001b[0m",
      "\u001b[0;32m<ipython-input-16-07fc2f3f7123>\u001b[0m in \u001b[0;36mvisualize_layer\u001b[0;34m(model, layer_name, step, epochs, upscaling_steps, upscaling_factor, output_dim, filter_range)\u001b[0m\n\u001b[1;32m    208\u001b[0m     \u001b[0mlayer_dict\u001b[0m \u001b[0;34m=\u001b[0m \u001b[0mdict\u001b[0m\u001b[0;34m(\u001b[0m\u001b[0;34m[\u001b[0m\u001b[0;34m(\u001b[0m\u001b[0mlayer\u001b[0m\u001b[0;34m.\u001b[0m\u001b[0mname\u001b[0m\u001b[0;34m,\u001b[0m \u001b[0mlayer\u001b[0m\u001b[0;34m)\u001b[0m \u001b[0;32mfor\u001b[0m \u001b[0mlayer\u001b[0m \u001b[0;32min\u001b[0m \u001b[0mmodel\u001b[0m\u001b[0;34m.\u001b[0m\u001b[0mlayers\u001b[0m\u001b[0;34m[\u001b[0m\u001b[0;36m1\u001b[0m\u001b[0;34m:\u001b[0m\u001b[0;34m]\u001b[0m\u001b[0;34m]\u001b[0m\u001b[0;34m)\u001b[0m\u001b[0;34m\u001b[0m\u001b[0;34m\u001b[0m\u001b[0m\n\u001b[1;32m    209\u001b[0m \u001b[0;34m\u001b[0m\u001b[0m\n\u001b[0;32m--> 210\u001b[0;31m     \u001b[0moutput_layer\u001b[0m \u001b[0;34m=\u001b[0m \u001b[0mlayer_dict\u001b[0m\u001b[0;34m[\u001b[0m\u001b[0mlayer_name\u001b[0m\u001b[0;34m]\u001b[0m\u001b[0;34m\u001b[0m\u001b[0;34m\u001b[0m\u001b[0m\n\u001b[0m\u001b[1;32m    211\u001b[0m     \u001b[0;31m#assert isinstance(output_layer, layers.Conv2D)\u001b[0m\u001b[0;34m\u001b[0m\u001b[0;34m\u001b[0m\u001b[0;34m\u001b[0m\u001b[0m\n\u001b[1;32m    212\u001b[0m \u001b[0;34m\u001b[0m\u001b[0m\n",
      "\u001b[0;31mKeyError\u001b[0m: 'conv2d_42'"
     ]
    }
   ],
   "source": [
    "visualize_layer(model, 'conv2d_42')"
   ]
  },
  {
   "cell_type": "code",
   "execution_count": 23,
   "metadata": {},
   "outputs": [
    {
     "data": {
      "text/plain": [
       "<keras.layers.convolutional.Conv2D at 0x7f4b78199630>"
      ]
     },
     "execution_count": 23,
     "metadata": {},
     "output_type": "execute_result"
    }
   ],
   "source": [
    "layer_dict = dict([(layer.name, layer) for layer in model.layers[1:]])\n",
    "layer_dict.keys()\n",
    "layer_dict['conv2d_22']"
   ]
  },
  {
   "cell_type": "code",
   "execution_count": 6,
   "metadata": {},
   "outputs": [],
   "source": [
    "import multiprocessing as mp\n",
    "\n",
    "model = load_model('model-dsbowl2018-1.h5', custom_objects={'Mean_IOU': Mean_IOU})\n",
    "layer_dict = dict([(layer.name, layer) for layer in model.layers[1:]])\n",
    "layernames = layer_dict.keys()"
   ]
  },
  {
   "cell_type": "code",
   "execution_count": 7,
   "metadata": {},
   "outputs": [
    {
     "ename": "KeyboardInterrupt",
     "evalue": "",
     "output_type": "error",
     "traceback": [
      "\u001b[0;31m---------------------------------------------------------------------------\u001b[0m",
      "\u001b[0;31mKeyboardInterrupt\u001b[0m                         Traceback (most recent call last)",
      "\u001b[0;32m<ipython-input-7-f88bd8291b7d>\u001b[0m in \u001b[0;36m<module>\u001b[0;34m\u001b[0m\n\u001b[1;32m     14\u001b[0m \u001b[0;34m\u001b[0m\u001b[0m\n\u001b[1;32m     15\u001b[0m \u001b[0;32mif\u001b[0m \u001b[0m__name__\u001b[0m \u001b[0;34m==\u001b[0m \u001b[0;34m'__main__'\u001b[0m\u001b[0;34m:\u001b[0m\u001b[0;34m\u001b[0m\u001b[0;34m\u001b[0m\u001b[0m\n\u001b[0;32m---> 16\u001b[0;31m     \u001b[0mapply_async_with_callback\u001b[0m\u001b[0;34m(\u001b[0m\u001b[0;34m)\u001b[0m\u001b[0;34m\u001b[0m\u001b[0;34m\u001b[0m\u001b[0m\n\u001b[0m\u001b[1;32m     17\u001b[0m \u001b[0;34m\u001b[0m\u001b[0m\n",
      "\u001b[0;32m<ipython-input-7-f88bd8291b7d>\u001b[0m in \u001b[0;36mapply_async_with_callback\u001b[0;34m()\u001b[0m\n\u001b[1;32m     10\u001b[0m             \u001b[0mpool\u001b[0m\u001b[0;34m.\u001b[0m\u001b[0mapply_async\u001b[0m\u001b[0;34m(\u001b[0m\u001b[0mvn\u001b[0m\u001b[0;34m.\u001b[0m\u001b[0mvisualize_layer\u001b[0m\u001b[0;34m,\u001b[0m \u001b[0margs\u001b[0m \u001b[0;34m=\u001b[0m \u001b[0;34m(\u001b[0m\u001b[0mlayername\u001b[0m\u001b[0;34m,\u001b[0m\u001b[0;34m)\u001b[0m\u001b[0;34m)\u001b[0m\u001b[0;34m\u001b[0m\u001b[0;34m\u001b[0m\u001b[0m\n\u001b[1;32m     11\u001b[0m     \u001b[0mpool\u001b[0m\u001b[0;34m.\u001b[0m\u001b[0mclose\u001b[0m\u001b[0;34m(\u001b[0m\u001b[0;34m)\u001b[0m\u001b[0;34m\u001b[0m\u001b[0;34m\u001b[0m\u001b[0m\n\u001b[0;32m---> 12\u001b[0;31m     \u001b[0mpool\u001b[0m\u001b[0;34m.\u001b[0m\u001b[0mjoin\u001b[0m\u001b[0;34m(\u001b[0m\u001b[0;34m)\u001b[0m\u001b[0;34m\u001b[0m\u001b[0;34m\u001b[0m\u001b[0m\n\u001b[0m\u001b[1;32m     13\u001b[0m     \u001b[0mprint\u001b[0m\u001b[0;34m(\u001b[0m\u001b[0mresult_list\u001b[0m\u001b[0;34m)\u001b[0m\u001b[0;34m\u001b[0m\u001b[0;34m\u001b[0m\u001b[0m\n\u001b[1;32m     14\u001b[0m \u001b[0;34m\u001b[0m\u001b[0m\n",
      "\u001b[0;32m/usr/lib/python3.6/multiprocessing/pool.py\u001b[0m in \u001b[0;36mjoin\u001b[0;34m(self)\u001b[0m\n\u001b[1;32m    570\u001b[0m         \u001b[0mutil\u001b[0m\u001b[0;34m.\u001b[0m\u001b[0mdebug\u001b[0m\u001b[0;34m(\u001b[0m\u001b[0;34m'joining pool'\u001b[0m\u001b[0;34m)\u001b[0m\u001b[0;34m\u001b[0m\u001b[0;34m\u001b[0m\u001b[0m\n\u001b[1;32m    571\u001b[0m         \u001b[0;32massert\u001b[0m \u001b[0mself\u001b[0m\u001b[0;34m.\u001b[0m\u001b[0m_state\u001b[0m \u001b[0;32min\u001b[0m \u001b[0;34m(\u001b[0m\u001b[0mCLOSE\u001b[0m\u001b[0;34m,\u001b[0m \u001b[0mTERMINATE\u001b[0m\u001b[0;34m)\u001b[0m\u001b[0;34m\u001b[0m\u001b[0;34m\u001b[0m\u001b[0m\n\u001b[0;32m--> 572\u001b[0;31m         \u001b[0mself\u001b[0m\u001b[0;34m.\u001b[0m\u001b[0m_worker_handler\u001b[0m\u001b[0;34m.\u001b[0m\u001b[0mjoin\u001b[0m\u001b[0;34m(\u001b[0m\u001b[0;34m)\u001b[0m\u001b[0;34m\u001b[0m\u001b[0;34m\u001b[0m\u001b[0m\n\u001b[0m\u001b[1;32m    573\u001b[0m         \u001b[0mself\u001b[0m\u001b[0;34m.\u001b[0m\u001b[0m_task_handler\u001b[0m\u001b[0;34m.\u001b[0m\u001b[0mjoin\u001b[0m\u001b[0;34m(\u001b[0m\u001b[0;34m)\u001b[0m\u001b[0;34m\u001b[0m\u001b[0;34m\u001b[0m\u001b[0m\n\u001b[1;32m    574\u001b[0m         \u001b[0mself\u001b[0m\u001b[0;34m.\u001b[0m\u001b[0m_result_handler\u001b[0m\u001b[0;34m.\u001b[0m\u001b[0mjoin\u001b[0m\u001b[0;34m(\u001b[0m\u001b[0;34m)\u001b[0m\u001b[0;34m\u001b[0m\u001b[0;34m\u001b[0m\u001b[0m\n",
      "\u001b[0;32m/usr/lib/python3.6/threading.py\u001b[0m in \u001b[0;36mjoin\u001b[0;34m(self, timeout)\u001b[0m\n\u001b[1;32m   1054\u001b[0m \u001b[0;34m\u001b[0m\u001b[0m\n\u001b[1;32m   1055\u001b[0m         \u001b[0;32mif\u001b[0m \u001b[0mtimeout\u001b[0m \u001b[0;32mis\u001b[0m \u001b[0;32mNone\u001b[0m\u001b[0;34m:\u001b[0m\u001b[0;34m\u001b[0m\u001b[0;34m\u001b[0m\u001b[0m\n\u001b[0;32m-> 1056\u001b[0;31m             \u001b[0mself\u001b[0m\u001b[0;34m.\u001b[0m\u001b[0m_wait_for_tstate_lock\u001b[0m\u001b[0;34m(\u001b[0m\u001b[0;34m)\u001b[0m\u001b[0;34m\u001b[0m\u001b[0;34m\u001b[0m\u001b[0m\n\u001b[0m\u001b[1;32m   1057\u001b[0m         \u001b[0;32melse\u001b[0m\u001b[0;34m:\u001b[0m\u001b[0;34m\u001b[0m\u001b[0;34m\u001b[0m\u001b[0m\n\u001b[1;32m   1058\u001b[0m             \u001b[0;31m# the behavior of a negative timeout isn't documented, but\u001b[0m\u001b[0;34m\u001b[0m\u001b[0;34m\u001b[0m\u001b[0;34m\u001b[0m\u001b[0m\n",
      "\u001b[0;32m/usr/lib/python3.6/threading.py\u001b[0m in \u001b[0;36m_wait_for_tstate_lock\u001b[0;34m(self, block, timeout)\u001b[0m\n\u001b[1;32m   1070\u001b[0m         \u001b[0;32mif\u001b[0m \u001b[0mlock\u001b[0m \u001b[0;32mis\u001b[0m \u001b[0;32mNone\u001b[0m\u001b[0;34m:\u001b[0m  \u001b[0;31m# already determined that the C code is done\u001b[0m\u001b[0;34m\u001b[0m\u001b[0;34m\u001b[0m\u001b[0m\n\u001b[1;32m   1071\u001b[0m             \u001b[0;32massert\u001b[0m \u001b[0mself\u001b[0m\u001b[0;34m.\u001b[0m\u001b[0m_is_stopped\u001b[0m\u001b[0;34m\u001b[0m\u001b[0;34m\u001b[0m\u001b[0m\n\u001b[0;32m-> 1072\u001b[0;31m         \u001b[0;32melif\u001b[0m \u001b[0mlock\u001b[0m\u001b[0;34m.\u001b[0m\u001b[0macquire\u001b[0m\u001b[0;34m(\u001b[0m\u001b[0mblock\u001b[0m\u001b[0;34m,\u001b[0m \u001b[0mtimeout\u001b[0m\u001b[0;34m)\u001b[0m\u001b[0;34m:\u001b[0m\u001b[0;34m\u001b[0m\u001b[0;34m\u001b[0m\u001b[0m\n\u001b[0m\u001b[1;32m   1073\u001b[0m             \u001b[0mlock\u001b[0m\u001b[0;34m.\u001b[0m\u001b[0mrelease\u001b[0m\u001b[0;34m(\u001b[0m\u001b[0;34m)\u001b[0m\u001b[0;34m\u001b[0m\u001b[0;34m\u001b[0m\u001b[0m\n\u001b[1;32m   1074\u001b[0m             \u001b[0mself\u001b[0m\u001b[0;34m.\u001b[0m\u001b[0m_stop\u001b[0m\u001b[0;34m(\u001b[0m\u001b[0;34m)\u001b[0m\u001b[0;34m\u001b[0m\u001b[0;34m\u001b[0m\u001b[0m\n",
      "\u001b[0;31mKeyboardInterrupt\u001b[0m: "
     ]
    }
   ],
   "source": [
    "result_list=[]\n",
    "def log_result(result):\n",
    "    result_list.append(result)\n",
    "    \n",
    "def apply_async_with_callback():\n",
    "    pool=mp.Pool();\n",
    "    for layername in layernames:\n",
    "        if \"conv2d\" in layername:\n",
    "            pool.apply_async(vn.visualize_layer, args = (layername,))\n",
    "    pool.close()\n",
    "    pool.join()\n",
    "    print(result_list)\n",
    "\n",
    "if __name__ == '__main__':\n",
    "    apply_async_with_callback()    \n",
    "   "
   ]
  },
  {
   "cell_type": "code",
   "execution_count": 15,
   "metadata": {},
   "outputs": [
    {
     "name": "stdout",
     "output_type": "stream",
     "text": [
      "Compute filters 0 to 16\n",
      "Costs of filter   9:     0 ( 0.74s )\n",
      "1 filter processed.\n",
      "Compute filters 0 to 16\n",
      "0 filter processed.\n",
      "Compute filters 0 to 32\n",
      "Costs of filter   1:     1 ( 1.43s )\n",
      "Costs of filter  25:     1 ( 1.19s )\n",
      "Costs of filter  31:     1 ( 1.25s )\n",
      "3 filter processed.\n",
      "Compute filters 0 to 32\n",
      "Costs of filter   1:     3 ( 1.57s )\n",
      "Costs of filter   7:     1 ( 1.48s )\n",
      "Costs of filter  15:     2 ( 1.57s )\n",
      "Costs of filter  16:     1 ( 1.52s )\n",
      "Costs of filter  20:     2 ( 1.47s )\n",
      "Costs of filter  21:     2 ( 1.56s )\n",
      "Costs of filter  28:     1 ( 1.60s )\n",
      "7 filter processed.\n",
      "Compute filters 0 to 64\n",
      "Costs of filter   4:     2 ( 1.80s )\n",
      "Costs of filter   6:     3 ( 1.72s )\n",
      "Costs of filter  12:     4 ( 1.77s )\n",
      "Costs of filter  13:     3 ( 1.78s )\n",
      "Costs of filter  18:     1 ( 1.77s )\n",
      "Costs of filter  27:     5 ( 1.88s )\n",
      "Costs of filter  28:     4 ( 1.92s )\n",
      "Costs of filter  29:     2 ( 1.91s )\n",
      "Costs of filter  36:     5 ( 1.94s )\n",
      "Costs of filter  54:     3 ( 2.03s )\n",
      "Costs of filter  57:     2 ( 2.30s )\n",
      "Costs of filter  60:     4 ( 2.13s )\n",
      "Costs of filter  62:     1 ( 2.14s )\n",
      "13 filter processed.\n",
      "Compute filters 0 to 64\n",
      "Costs of filter   5:     3 ( 2.51s )\n",
      "Costs of filter   7:     7 ( 2.36s )\n",
      "Costs of filter  16:     3 ( 2.47s )\n",
      "Costs of filter  19:     1 ( 2.51s )\n",
      "Costs of filter  20:     4 ( 2.49s )\n",
      "Costs of filter  29:     4 ( 2.59s )\n",
      "Costs of filter  30:     2 ( 2.57s )\n",
      "Costs of filter  32:     5 ( 2.58s )\n",
      "Costs of filter  34:     4 ( 2.61s )\n",
      "Costs of filter  38:     1 ( 2.97s )\n",
      "Costs of filter  41:     8 ( 2.70s )\n",
      "Costs of filter  44:     6 ( 2.73s )\n",
      "Costs of filter  45:     3 ( 2.70s )\n",
      "Costs of filter  50:     2 ( 2.75s )\n",
      "Costs of filter  53:     4 ( 2.78s )\n",
      "Costs of filter  61:     2 ( 2.87s )\n",
      "16 filter processed.\n",
      "Compute filters 0 to 128\n",
      "Costs of filter   5:     9 ( 3.17s )\n",
      "Costs of filter  11:     6 ( 3.08s )\n",
      "Costs of filter  12:     7 ( 3.10s )\n",
      "Costs of filter  16:     8 ( 3.09s )\n",
      "Costs of filter  29:     6 ( 3.20s )\n",
      "Costs of filter  33:     4 ( 3.29s )\n",
      "Costs of filter  45:     3 ( 3.45s )\n",
      "Costs of filter  48:     4 ( 3.45s )\n",
      "Costs of filter  49:    11 ( 3.51s )\n",
      "Costs of filter  53:     8 ( 3.51s )\n",
      "Costs of filter  54:     9 ( 3.56s )\n",
      "Costs of filter  60:     3 ( 3.54s )\n",
      "Costs of filter  61:     4 ( 3.59s )\n",
      "Costs of filter  63:     5 ( 3.65s )\n",
      "Costs of filter  68:     7 ( 3.65s )\n",
      "Costs of filter  71:    10 ( 3.75s )\n",
      "Costs of filter  78:     5 ( 3.78s )\n",
      "Costs of filter  80:    10 ( 3.78s )\n",
      "Costs of filter  83:     7 ( 3.80s )\n",
      "Costs of filter  90:     8 ( 3.97s )\n",
      "Costs of filter 104:     8 ( 4.02s )\n",
      "Costs of filter 107:     9 ( 4.09s )\n",
      "Costs of filter 109:     8 ( 4.10s )\n",
      "Costs of filter 113:     6 ( 4.14s )\n",
      "Costs of filter 115:     8 ( 4.12s )\n",
      "Costs of filter 124:    14 ( 4.13s )\n",
      "Costs of filter 127:     4 ( 4.29s )\n",
      "27 filter processed.\n",
      "Compute filters 0 to 128\n",
      "Costs of filter   0:     8 ( 4.94s )\n",
      "Costs of filter  12:    10 ( 4.59s )\n",
      "Costs of filter  18:     3 ( 4.71s )\n",
      "Costs of filter  19:    10 ( 4.72s )\n",
      "Costs of filter  21:     3 ( 4.80s )\n",
      "Costs of filter  31:    14 ( 4.85s )\n",
      "Costs of filter  39:     3 ( 5.74s )\n",
      "Costs of filter  40:     3 ( 5.06s )\n",
      "Costs of filter  42:     3 ( 5.04s )\n",
      "Costs of filter  54:     5 ( 5.16s )\n",
      "Costs of filter  73:     3 ( 5.39s )\n",
      "Costs of filter  80:     6 ( 5.49s )\n",
      "Costs of filter  87:     9 ( 5.60s )\n",
      "Costs of filter  96:     6 ( 5.67s )\n",
      "Costs of filter 106:     6 ( 5.93s )\n",
      "Costs of filter 113:     4 ( 5.98s )\n",
      "Costs of filter 114:    14 ( 5.93s )\n",
      "Costs of filter 118:     5 ( 5.97s )\n",
      "Costs of filter 120:    11 ( 6.02s )\n",
      "19 filter processed.\n",
      "Compute filters 0 to 256\n",
      "Costs of filter   6:    21 ( 6.90s )\n",
      "Costs of filter  18:    14 ( 6.55s )\n",
      "Costs of filter  43:    10 ( 7.00s )\n",
      "Costs of filter  56:    12 ( 7.19s )\n",
      "Costs of filter  59:    11 ( 7.19s )\n",
      "Costs of filter  62:    12 ( 7.22s )\n",
      "Costs of filter  64:     6 ( 7.42s )\n",
      "Costs of filter  67:    11 ( 7.31s )\n",
      "Costs of filter  71:    12 ( 7.37s )\n",
      "Costs of filter  72:    14 ( 7.45s )\n",
      "Costs of filter  81:     8 ( 7.55s )\n",
      "Costs of filter  87:     9 ( 7.60s )\n",
      "Costs of filter  97:    10 ( 7.83s )\n",
      "Costs of filter 103:     6 ( 7.88s )\n",
      "Costs of filter 109:    10 ( 7.84s )\n",
      "Costs of filter 133:     7 ( 8.25s )\n",
      "Costs of filter 138:     5 ( 8.39s )\n",
      "Costs of filter 147:     7 ( 8.56s )\n",
      "Costs of filter 152:    12 ( 8.55s )\n",
      "Costs of filter 154:    14 ( 8.64s )\n",
      "Costs of filter 179:    11 ( 9.00s )\n",
      "Costs of filter 187:    10 ( 9.09s )\n",
      "Costs of filter 204:     4 ( 9.51s )\n",
      "Costs of filter 214:    23 ( 9.54s )\n",
      "Costs of filter 220:    12 ( 9.57s )\n",
      "Costs of filter 231:    11 ( 9.81s )\n",
      "Costs of filter 239:     9 ( 9.98s )\n",
      "Costs of filter 247:     9 ( 10.22s )\n",
      "Costs of filter 248:     9 ( 10.06s )\n",
      "29 filter processed.\n",
      "Compute filters 0 to 256\n",
      "Costs of filter  11:     7 ( 11.47s )\n",
      "Costs of filter  52:    19 ( 11.78s )\n",
      "Costs of filter  84:     7 ( 12.66s )\n",
      "Costs of filter  90:    14 ( 12.72s )\n",
      "Costs of filter  99:    11 ( 13.00s )\n",
      "Costs of filter 105:     9 ( 12.99s )\n",
      "Costs of filter 112:    19 ( 12.92s )\n",
      "Costs of filter 120:     8 ( 13.39s )\n",
      "Costs of filter 128:    16 ( 13.49s )\n",
      "Costs of filter 132:    10 ( 13.78s )\n",
      "Costs of filter 134:     8 ( 14.29s )\n",
      "Costs of filter 163:    15 ( 14.62s )\n",
      "Costs of filter 166:    10 ( 14.56s )\n",
      "Costs of filter 167:    11 ( 14.78s )\n",
      "Costs of filter 168:    13 ( 15.09s )\n",
      "Costs of filter 169:     8 ( 15.35s )\n",
      "Costs of filter 202:     4 ( 15.14s )\n",
      "Costs of filter 210:    21 ( 14.98s )\n",
      "Costs of filter 212:     8 ( 16.00s )\n",
      "Costs of filter 238:     5 ( 15.66s )\n",
      "Costs of filter 239:    15 ( 15.85s )\n",
      "Costs of filter 242:     9 ( 16.18s )\n",
      "22 filter processed.\n",
      "Compute filters 0 to 128\n",
      "Costs of filter   3:     3 ( 16.54s )\n",
      "Costs of filter  13:     2 ( 16.69s )\n",
      "Costs of filter  15:     3 ( 16.54s )\n",
      "Costs of filter  35:     2 ( 17.29s )\n",
      "Costs of filter  38:     4 ( 17.42s )\n",
      "Costs of filter  47:     1 ( 17.30s )\n",
      "Costs of filter  58:     1 ( 17.69s )\n",
      "Costs of filter  59:     1 ( 17.76s )\n",
      "Costs of filter  80:     2 ( 18.41s )\n",
      "Costs of filter 103:     1 ( 18.65s )\n",
      "Costs of filter 111:     2 ( 18.76s )\n",
      "Costs of filter 117:     1 ( 19.19s )\n",
      "Costs of filter 124:     4 ( 19.23s )\n",
      "Costs of filter 125:     2 ( 20.10s )\n",
      "14 filter processed.\n",
      "Compute filters 0 to 128\n",
      "Compute filters 0 to 128\n",
      "Compute filters 0 to 64\n",
      "Compute filters 0 to 64\n",
      "Compute filters 0 to 64\n",
      "Compute filters 0 to 32\n",
      "Compute filters 0 to 32\n",
      "Compute filters 0 to 32\n",
      "Compute filters 0 to 16\n",
      "Compute filters 0 to 16\n",
      "Compute filters 0 to 16\n",
      "Compute filters 0 to 1\n"
     ]
    }
   ],
   "source": [
    "for layername in layernames:\n",
    "    if \"conv2d\" in layername:\n",
    "        try:\n",
    "            visualize_layer(model,layername)\n",
    "        except:\n",
    "            pass"
   ]
  },
  {
   "cell_type": "code",
   "execution_count": 10,
   "metadata": {},
   "outputs": [
    {
     "data": {
      "text/plain": [
       "dict_keys(['lambda_2', 'conv2d_20', 'dropout_10', 'conv2d_21', 'max_pooling2d_5', 'conv2d_22', 'dropout_11', 'conv2d_23', 'max_pooling2d_6', 'conv2d_24', 'dropout_12', 'conv2d_25', 'max_pooling2d_7', 'conv2d_26', 'dropout_13', 'conv2d_27', 'max_pooling2d_8', 'conv2d_28', 'dropout_14', 'conv2d_29', 'conv2d_transpose_5', 'concatenate_5', 'conv2d_30', 'dropout_15', 'conv2d_31', 'conv2d_transpose_6', 'concatenate_6', 'conv2d_32', 'dropout_16', 'conv2d_33', 'conv2d_transpose_7', 'concatenate_7', 'conv2d_34', 'dropout_17', 'conv2d_35', 'conv2d_transpose_8', 'concatenate_8', 'conv2d_36', 'dropout_18', 'conv2d_37', 'conv2d_38'])"
      ]
     },
     "execution_count": 10,
     "metadata": {},
     "output_type": "execute_result"
    }
   ],
   "source": [
    "layernames"
   ]
  },
  {
   "cell_type": "code",
   "execution_count": null,
   "metadata": {},
   "outputs": [],
   "source": [
    "import "
   ]
  }
 ],
 "metadata": {
  "kernelspec": {
   "display_name": "Python 3",
   "language": "python",
   "name": "python3"
  },
  "language_info": {
   "codemirror_mode": {
    "name": "ipython",
    "version": 3
   },
   "file_extension": ".py",
   "mimetype": "text/x-python",
   "name": "python",
   "nbconvert_exporter": "python",
   "pygments_lexer": "ipython3",
   "version": "3.6.7"
  }
 },
 "nbformat": 4,
 "nbformat_minor": 2
}
