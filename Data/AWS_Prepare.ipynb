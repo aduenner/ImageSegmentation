{
 "cells": [
  {
   "cell_type": "code",
   "execution_count": 65,
   "metadata": {},
   "outputs": [],
   "source": [
    "from os import listdir\n",
    "from os.path import isfile, join\n",
    "import json"
   ]
  },
  {
   "cell_type": "code",
   "execution_count": 96,
   "metadata": {},
   "outputs": [],
   "source": [
    "mypath = '/home/andrew/Downloads/segmentation/unsegmented_images'\n",
    "onlyfiles = [f for f in listdir(mypath) if isfile(join(mypath, f))]\n",
    "\n",
    "file_list = onlyfiles\n",
    "bucket_url = 's3://duennerstore/'\n",
    "file_directory = 'unsegmented_images/'\n",
    "\n",
    "manifest_file = generate_manifest(file_list,'manifest.json',bucket_url,file_directory)"
   ]
  },
  {
   "cell_type": "code",
   "execution_count": 97,
   "metadata": {},
   "outputs": [
    {
     "data": {
      "text/plain": [
       "'/home/andrew/ImageSegmentation/manifest.json'"
      ]
     },
     "execution_count": 97,
     "metadata": {},
     "output_type": "execute_result"
    }
   ],
   "source": [
    "manifest_file"
   ]
  },
  {
   "cell_type": "code",
   "execution_count": 95,
   "metadata": {},
   "outputs": [],
   "source": [
    "from os import listdir\n",
    "from os.path import isfile, join\n",
    "import os\n",
    "import json\n",
    "\n",
    "def generate_manifest(file_list,manifest_filename,bucket_url,file_directory):\n",
    "    version = '2012-10-17'\n",
    "    ActionList = [\"cognito-idp:CreateGroup\",\n",
    "                  \"cognito-idp:CreateUserPool\",\n",
    "                  \"cognito-idp:CreateUserPoolDomain\",\n",
    "                  \"cognito-idp:AdminCreateUser\",\n",
    "                  \"cognito-idp:CreateUserPoolClient\",\n",
    "                  \"cognito-idp:AdminAddUserToGroup\",\n",
    "                  \"cognito-idp:DescribeUserPoolClient\",\n",
    "                  \"cognito-idp:DescribeUserPool\",\n",
    "                  \"cognito-idp:UpdateUserPool\"]\n",
    "\n",
    "    Statement={\n",
    "            \"Sid\": \"sagemakergroundtruth\",\n",
    "            'Effect': \"Allow\",\n",
    "            \"Action\": ActionList, \n",
    "            'Resource': '\"*\"'\n",
    "            }\n",
    "\n",
    "    Output = {\n",
    "        'Version': version,\n",
    "        'Statement': [Statement]\n",
    "    }\n",
    "\n",
    "    file_list = []\n",
    "\n",
    "    for f in onlyfiles:\n",
    "        file_list.append(bucket_url+file_directory+f)\n",
    "\n",
    "    with open(manifest_filename, \"w\") as write_file:\n",
    "        for file in file_list:\n",
    "            json.dump({\"source-ref\": file}, write_file)\n",
    "            write_file.write(\"\\n\")\n",
    "        json.dump(Output, write_file, indent=4)\n",
    "    return os.getcwd()+\"/\"+manifest_filename"
   ]
  },
  {
   "cell_type": "code",
   "execution_count": 76,
   "metadata": {},
   "outputs": [],
   "source": []
  },
  {
   "cell_type": "code",
   "execution_count": 44,
   "metadata": {},
   "outputs": [],
   "source": []
  },
  {
   "cell_type": "code",
   "execution_count": 45,
   "metadata": {},
   "outputs": [],
   "source": [
    "jasonstring2=json.dumps(Output)"
   ]
  },
  {
   "cell_type": "code",
   "execution_count": 53,
   "metadata": {},
   "outputs": [
    {
     "data": {
      "text/plain": [
       "'{\"Version\": \"2012-10-17\", \"Effect\": \"Allow\", \"Action\": [\"cognito-idp:CreateGroup\", \"cognito-idp:CreateUserPool\", \"cognito-idp:CreateUserPoolDomain\", \"cognito-idp:AdminCreateUser\", \"cognito-idp:CreateUserPoolClient\", \"cognito-idp:AdminAddUserToGroup\", \"cognito-idp:DescribeUserPoolClient\", \"cognito-idp:DescribeUserPool\", \"cognito-idp:UpdateUserPool\"], \"Resource\": \"\\\\\"*\\\\\"\"}'"
      ]
     },
     "execution_count": 53,
     "metadata": {},
     "output_type": "execute_result"
    }
   ],
   "source": [
    "jasonstring2"
   ]
  },
  {
   "cell_type": "code",
   "execution_count": null,
   "metadata": {},
   "outputs": [],
   "source": []
  }
 ],
 "metadata": {
  "kernelspec": {
   "display_name": "Python 3",
   "language": "python",
   "name": "python3"
  },
  "language_info": {
   "codemirror_mode": {
    "name": "ipython",
    "version": 3
   },
   "file_extension": ".py",
   "mimetype": "text/x-python",
   "name": "python",
   "nbconvert_exporter": "python",
   "pygments_lexer": "ipython3",
   "version": "3.6.7"
  }
 },
 "nbformat": 4,
 "nbformat_minor": 2
}
